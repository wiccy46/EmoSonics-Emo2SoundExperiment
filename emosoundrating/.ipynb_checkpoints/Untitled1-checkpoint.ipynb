{
 "cells": [
  {
   "cell_type": "code",
   "execution_count": 1,
   "metadata": {
    "collapsed": false
   },
   "outputs": [
    {
     "name": "stdout",
     "output_type": "stream",
     "text": [
      "Using matplotlib backend: MacOSX\n",
      "Populating the interactive namespace from numpy and matplotlib\n"
     ]
    }
   ],
   "source": [
    "%pylab\n",
    "import ipywidgets as widgets\n",
    "from functools import partial\n",
    "from IPython.display import display\n",
    "import pandas, time, socket, imp\n",
    "import OSC,threading"
   ]
  },
  {
   "cell_type": "code",
   "execution_count": 2,
   "metadata": {
    "collapsed": false
   },
   "outputs": [
    {
     "name": "stdout",
     "output_type": "stream",
     "text": [
      "wait for SC to start...\n",
      "resume: establish OSC interfaces...\n"
     ]
    }
   ],
   "source": [
    "sonmod = imp.load_source('sonmod', 'EmoSonics-soundmodels.py')\n",
    "# I moved it from .py to here to accomodate the non notebook version of rating\n",
    "print \"wait for SC to start...\"\n",
    "time.sleep(5); # wait until SC is started...\n",
    "print \"resume: establish OSC interfaces...\""
   ]
  },
  {
   "cell_type": "code",
   "execution_count": 4,
   "metadata": {
    "collapsed": false
   },
   "outputs": [],
   "source": [
    "targetlist = ['happy', 'surprised', 'angry', 'afraid', 'neutral', 'disgusted', \n",
    "              'sad', 'tired', 'calm'];\n",
    "degreelist = ['-', 'weak', 'average', 'strong']\n",
    "sm = 'abstract'\n",
    "ipAddr = socket.gethostbyname(socket.getfqdn())\n",
    "v = sonmod.parvecunmap(sonmod.parspecs[sm], \n",
    "                   sonmod.parspecs[sm]['default'].tolist())\n"
   ]
  },
  {
   "cell_type": "code",
   "execution_count": 10,
   "metadata": {
    "collapsed": true
   },
   "outputs": [],
   "source": [
    "# study related service functions\n",
    "def savedata(dataset, prefix=\"user-soundmodel-run-\"):\n",
    "    df = pandas.DataFrame(data, \n",
    "        columns=['uid', 'snd', 'run', 'step', 'time', 'parvec', 'emotion', 'intensity'])\n",
    "    df.to_csv(prefix + time.strftime(\"-%Y%m%d-%H%M%S\") + \".csv\", index=False)\n",
    "    data.append([userid.value, soundmodel.value, run.value, \n",
    "                 count, time.time()-start_time, v, \n",
    "                 wRBtarget.value, wRBintensity.value])\n",
    "    \n",
    "\n",
    "\n",
    "\n",
    "def mutate(parent, sigma=0.1):\n",
    "    d=size(parent)\n",
    "    print parent\n",
    "    print \"size is \" + str(d)\n",
    "    child = clip((parent + sigma*numpy.random.randn(d)), 0, 1)\n",
    "    return child\n",
    "\n",
    "def create_next_generation(parentvec, sigma, nr_of_children=4):\n",
    "    global generation_counter, v\n",
    "    generation_counter += 1\n",
    "    return [parentvec] + [mutate(parentvec, sigma) for k in range(nr_of_children)]\n"
   ]
  },
  {
   "cell_type": "code",
   "execution_count": 13,
   "metadata": {
    "collapsed": true
   },
   "outputs": [],
   "source": [
    "\n",
    "data = []\n",
    "class Rating_receiver:\n",
    "    def __init__(self, ip = '192.168.0.3', port = 7100, num_emotion = 9, num_degree = 4):\n",
    "        self.receive_address = ip, port\n",
    "        self.num_emotion = num_emotion\n",
    "        self.num_degree = num_degree\n",
    "        self.choice = targetlist[0]\n",
    "        self.degree = degreelist[0]\n",
    "        self.count = 0\n",
    "        \n",
    "     \n",
    "    def spawn(self):\n",
    "        print\"Server Created.\"\n",
    "        self.receiveServer = OSC.OSCServer(self.receive_address) # create a serve to receive OSC from the tablet\n",
    "        self.receiveServer.addDefaultHandlers()\n",
    "        \n",
    "    def initilisation_handler(self, addr, tags, stuff, source):\n",
    "        global sm, pf, uid, un, run, ns,v\n",
    "        pf = stuff[0]\n",
    "        uid = stuff[1]\n",
    "        un = stuff[2]\n",
    "        sm = stuff[3]\n",
    "        run = int(stuff[4])\n",
    "        ns = stuff[5]\n",
    "        v = sonmod.parvecunmap(sonmod.parspecs[sm], \n",
    "                   sonmod.parspecs[sm]['default'].tolist())\n",
    "        print stuff\n",
    "\n",
    "    # Emotion (Happy, surprised,..) change \n",
    "    def emotion_handler(self, addr, tags, stuff, source):\n",
    "        self.choice = targetlist[stuff[0]]\n",
    "        print stuff[0]\n",
    "        print self.choice\n",
    "    # Degree (Weak,average,..) change \n",
    "    def degree_handler(self, addr, tags, stuff, source):\n",
    "        self.degree = degreelist[stuff[0]]\n",
    "        print self.degree\n",
    "\n",
    "    # Play the sound based on the parameters\n",
    "    def play_handler(self, addr, tags, stuff, source):\n",
    "        global v, sm\n",
    "        print \"inside play event \"\n",
    "        v = mutate(v, 0.4)\n",
    "        #playfn(0)\n",
    "        sonmod.playevent(sm, v)\n",
    "        \n",
    "\n",
    "    # Save the sound parameter, reset the settings and move to next sound rating\n",
    "    def next_handler(self, addr, tags, stuff, source):        \n",
    "        global v, data\n",
    "        data.append([uid, sm, run, \n",
    "                     self.count, time.time()-start_time, v, \n",
    "                     self.choice, self.degree])\n",
    "        reset_settings()\n",
    "        v = mutate(v, 0.4)\n",
    "        sonmod.playevent(sm, v)\n",
    "        self.count += 1\n",
    "        print \"next next handler\"\n",
    "\n",
    "    # Save the sound in a csv file \n",
    "    def save_handler(self, addr, tags, stuff, source):\n",
    "        global data, un, run\n",
    "        print \"completed. thanks.\"\n",
    "        fname = \"../data/%s-%s-run%d\" % (un, sm, run) # All 3 needs to be replaced. \n",
    "#         savedata(data, fname)\n",
    "        df = pandas.DataFrame(data, \n",
    "            columns=['uid', 'snd', 'run', 'step', 'time', 'parvec', 'emotion', 'intensity'])\n",
    "        df.to_csv(fname + time.strftime(\"-%Y%m%d-%H%M%S\") + \".csv\", index=False)\n",
    "        data.append([userid.value, sm, run, \n",
    "                     self.count, time.time()-start_time, v, \n",
    "                     self.choice, self.degree])\n",
    "        print \"data saved to \" + fname\n",
    "        print \"Please inform the operator.\"\n",
    "        self.count = 0 # Reset counter. \n",
    "\n",
    "    \n",
    "    def add_handler(self):\n",
    "        self.receiveServer.addMsgHandler(\"/play\", self.play_handler)\n",
    "        self.receiveServer.addMsgHandler(\"/next\", self.next_handler)\n",
    "        self.receiveServer.addMsgHandler(\"/emo\", self.emotion_handler)\n",
    "        self.receiveServer.addMsgHandler(\"/degree\", self.degree_handler)\n",
    "        self.receiveServer.addMsgHandler(\"/save\", self.save_handler)\n",
    "        self.receiveServer.addMsgHandler(\"/init\", self.initilisation_handler)\n",
    "            \n",
    "    def print_registered_func(self):\n",
    "        for addr in self.receiveServer.getOSCAddressSpace():\n",
    "            print addr\n",
    "            \n",
    "    def start(self):\n",
    "        # Start OSCServer\n",
    "        print \"\\nStarting OSCServer.\"\n",
    "        self.emorating_oscServer = threading.Thread(target = self.receiveServer.serve_forever)\n",
    "        self.emorating_oscServer.start()\n",
    "        print \"\\nOSCServer established.\"\n",
    "        \n",
    "    def stop(self):\n",
    "        # Close the OSC server\n",
    "        print \"\\nClosing OSCServer.\"\n",
    "        self.receiveServer.close()\n",
    "        print \"Waiting for Server-thread to finish\"\n",
    "        try:\n",
    "            self.emorating_oscServer.join() ##!!!\n",
    "            print \"Done\"\n",
    "        except AttributeError:\n",
    "            print \"Done\"\n",
    "\n"
   ]
  },
  {
   "cell_type": "code",
   "execution_count": 15,
   "metadata": {
    "collapsed": false
   },
   "outputs": [
    {
     "name": "stdout",
     "output_type": "stream",
     "text": [
      "Server Created.\n",
      "\n",
      "Starting OSCServer.\n",
      "\n",
      "OSCServer established.\n",
      "inside play event \n",
      "[ 0.50834745  0.          1.          0.          0.29296585  0.2372114\n",
      "  0.68154     0.20414917  0.          1.          0.48903919]\n",
      "size is 11\n",
      "inside play event \n",
      "[ 1.          0.14207283  0.40961758  0.          0.32681093  0.37403383\n",
      "  0.83922805  0.56726755  0.08822366  0.59970006  0.83852835]\n",
      "size is 11\n",
      "2\n",
      "angry\n",
      "inside play event \n",
      "[ 0.49091815  0.19801593  0.47318736  0.27820881  0.30302591  1.\n",
      "  0.55653608  0.          0.          0.59231985  0.56422429]\n",
      "size is 11\n",
      "3\n",
      "afraid\n",
      "inside play event \n",
      "[ 0.46619761  0.61263421  0.43558594  0.77385528  0.70360285  1.\n",
      "  0.03009239  0.          0.35242703  0.52212061  0.33532537]\n",
      "size is 11\n",
      "inside play event \n",
      "[ 0.06425329  1.          0.67411146  0.4539695   1.          0.87485629\n",
      "  0.          0.          0.          1.          0.30376911]\n",
      "size is 11\n",
      "inside play event \n",
      "[ 0.          0.60240138  0.48178313  0.6925226   1.          0.93610768\n",
      "  0.          0.          0.          0.8758185   0.        ]\n",
      "size is 11\n",
      "weak\n",
      "inside play event \n",
      "[ 0.18811461  0.81645522  1.          1.          1.          1.\n",
      "  0.08434206  0.26709513  0.34241988  1.          0.        ]\n",
      "size is 11\n"
     ]
    }
   ],
   "source": [
    "init_receiver = Rating_receiver (ip = ipAddr, port = 8022,num_emotion = 9, num_degree = 4)\n",
    "init_receiver.spawn()\n",
    "init_receiver.add_handler()\n",
    "init_receiver.start()"
   ]
  },
  {
   "cell_type": "code",
   "execution_count": 14,
   "metadata": {
    "collapsed": false
   },
   "outputs": [
    {
     "name": "stdout",
     "output_type": "stream",
     "text": [
      "\n",
      "Closing OSCServer.\n",
      "Waiting for Server-thread to finish\n",
      "Done\n"
     ]
    },
    {
     "name": "stderr",
     "output_type": "stream",
     "text": [
      "Exception in thread Thread-6:\n",
      "Traceback (most recent call last):\n",
      "  File \"/Users/sozen/anaconda/lib/python2.7/threading.py\", line 801, in __bootstrap_inner\n",
      "    self.run()\n",
      "  File \"/Users/sozen/anaconda/lib/python2.7/threading.py\", line 754, in run\n",
      "    self.__target(*self.__args, **self.__kwargs)\n",
      "  File \"/Users/sozen/anaconda/lib/python2.7/site-packages/OSC.py\", line 1816, in serve_forever\n",
      "    self.handle_request()\t# this times-out when no data arrives.\n",
      "  File \"/Users/sozen/anaconda/lib/python2.7/SocketServer.py\", line 271, in handle_request\n",
      "    fd_sets = _eintr_retry(select.select, [self], [], [], timeout)\n",
      "  File \"/Users/sozen/anaconda/lib/python2.7/SocketServer.py\", line 150, in _eintr_retry\n",
      "    return func(*args)\n",
      "error: (9, 'Bad file descriptor')\n",
      "\n"
     ]
    }
   ],
   "source": [
    "try:\n",
    "    init_receiver.stop()\n",
    "except:\n",
    "    print \"OK\""
   ]
  }
 ],
 "metadata": {
  "anaconda-cloud": {},
  "kernelspec": {
   "display_name": "Python [conda root]",
   "language": "python",
   "name": "conda-root-py"
  },
  "language_info": {
   "codemirror_mode": {
    "name": "ipython",
    "version": 2
   },
   "file_extension": ".py",
   "mimetype": "text/x-python",
   "name": "python",
   "nbconvert_exporter": "python",
   "pygments_lexer": "ipython2",
   "version": "2.7.12"
  }
 },
 "nbformat": 4,
 "nbformat_minor": 1
}
