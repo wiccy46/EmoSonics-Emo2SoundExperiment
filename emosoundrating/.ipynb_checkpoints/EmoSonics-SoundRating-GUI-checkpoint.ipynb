{
 "cells": [
  {
   "cell_type": "markdown",
   "metadata": {},
   "source": [
    "# EmoSonics RateSounds-GUI\n",
    "\n",
    "This GUI uses the sound models (abstract, vocal) developed for the AudioMostly paper\n",
    "They have been exported into a py file...\n",
    "On import, this should start superCollider and create an SC class to interact with.\n",
    "\n",
    "The GUI itself does..."
   ]
  },
  {
   "cell_type": "code",
   "execution_count": 1,
   "metadata": {
    "collapsed": false
   },
   "outputs": [
    {
     "name": "stdout",
     "output_type": "stream",
     "text": [
      "Using matplotlib backend: MacOSX\n",
      "Populating the interactive namespace from numpy and matplotlib\n"
     ]
    }
   ],
   "source": [
    "%pylab\n",
    "import ipywidgets as widgets\n",
    "from functools import partial\n",
    "from IPython.display import display\n",
    "import pandas\n",
    "import time, socket"
   ]
  },
  {
   "cell_type": "code",
   "execution_count": 8,
   "metadata": {
    "collapsed": false
   },
   "outputs": [
    {
     "name": "stdout",
     "output_type": "stream",
     "text": [
      "delete SC instance\n",
      "wait for SC to start...\n",
      "resume: establish OSC interfaces...\n"
     ]
    }
   ],
   "source": [
    "import imp\n",
    "sonmod = imp.load_source('sonmod', 'EmoSonics-soundmodels.py')\n",
    "# I moved it from .py to here to accomodate the non notebook version of rating\n",
    "print \"wait for SC to start...\"\n",
    "time.sleep(5); # wait until SC is started...\n",
    "print \"resume: establish OSC interfaces...\""
   ]
  },
  {
   "cell_type": "code",
   "execution_count": 9,
   "metadata": {
    "collapsed": false
   },
   "outputs": [
    {
     "ename": "IndexError",
     "evalue": "index 11 is out of bounds for axis 0 with size 11",
     "output_type": "error",
     "traceback": [
      "\u001b[0;31m---------------------------------------------------------------------------\u001b[0m",
      "\u001b[0;31mIndexError\u001b[0m                                Traceback (most recent call last)",
      "\u001b[0;32m<ipython-input-9-535382e12c3d>\u001b[0m in \u001b[0;36m<module>\u001b[0;34m()\u001b[0m\n\u001b[1;32m      1\u001b[0m \u001b[0msm\u001b[0m \u001b[0;34m=\u001b[0m \u001b[0;34m'abstract'\u001b[0m\u001b[0;34m\u001b[0m\u001b[0m\n\u001b[1;32m      2\u001b[0m \u001b[0mipAddr\u001b[0m \u001b[0;34m=\u001b[0m \u001b[0msocket\u001b[0m\u001b[0;34m.\u001b[0m\u001b[0mgethostbyname\u001b[0m\u001b[0;34m(\u001b[0m\u001b[0msocket\u001b[0m\u001b[0;34m.\u001b[0m\u001b[0mgetfqdn\u001b[0m\u001b[0;34m(\u001b[0m\u001b[0;34m)\u001b[0m\u001b[0;34m)\u001b[0m\u001b[0;34m\u001b[0m\u001b[0m\n\u001b[0;32m----> 3\u001b[0;31m \u001b[0msonmod\u001b[0m\u001b[0;34m.\u001b[0m\u001b[0mplayevent\u001b[0m\u001b[0;34m(\u001b[0m\u001b[0msm\u001b[0m\u001b[0;34m,\u001b[0m \u001b[0;34m[\u001b[0m\u001b[0;36m0.8\u001b[0m\u001b[0;34m,\u001b[0m\u001b[0;36m0.5\u001b[0m\u001b[0;34m,\u001b[0m\u001b[0;36m0.5\u001b[0m\u001b[0;34m,\u001b[0m\u001b[0;36m0.5\u001b[0m\u001b[0;34m,\u001b[0m\u001b[0;36m0.5\u001b[0m\u001b[0;34m,\u001b[0m\u001b[0;36m0.5\u001b[0m\u001b[0;34m,\u001b[0m\u001b[0;36m0.5\u001b[0m\u001b[0;34m,\u001b[0m\u001b[0;36m0.5\u001b[0m\u001b[0;34m,\u001b[0m\u001b[0;36m0.5\u001b[0m\u001b[0;34m,\u001b[0m\u001b[0;36m0.5\u001b[0m\u001b[0;34m,\u001b[0m\u001b[0;36m0.5\u001b[0m\u001b[0;34m,\u001b[0m\u001b[0;36m0.5\u001b[0m\u001b[0;34m]\u001b[0m\u001b[0;34m)\u001b[0m\u001b[0;34m\u001b[0m\u001b[0m\n\u001b[0m",
      "\u001b[0;32m/Users/sozen/Desktop/EmosonicApps/EmoSonics-Emo2SoundExperiment/emosoundrating/EmoSonics-soundmodels.py\u001b[0m in \u001b[0;36mplayevent\u001b[0;34m(soundmodel, v)\u001b[0m\n\u001b[1;32m    148\u001b[0m     \u001b[0;31m# v is unmapped vector, i.e. vector elements in [0,1]\u001b[0m\u001b[0;34m\u001b[0m\u001b[0;34m\u001b[0m\u001b[0m\n\u001b[1;32m    149\u001b[0m     \u001b[0mps\u001b[0m \u001b[0;34m=\u001b[0m \u001b[0mparspecs\u001b[0m\u001b[0;34m[\u001b[0m\u001b[0msoundmodel\u001b[0m\u001b[0;34m]\u001b[0m\u001b[0;34m;\u001b[0m\u001b[0;34m\u001b[0m\u001b[0m\n\u001b[0;32m--> 150\u001b[0;31m     \u001b[0mvec\u001b[0m \u001b[0;34m=\u001b[0m \u001b[0mparvecmap\u001b[0m\u001b[0;34m(\u001b[0m\u001b[0mps\u001b[0m\u001b[0;34m,\u001b[0m \u001b[0mv\u001b[0m\u001b[0;34m)\u001b[0m\u001b[0;34m;\u001b[0m\u001b[0;34m\u001b[0m\u001b[0m\n\u001b[0m\u001b[1;32m    151\u001b[0m     \u001b[0;32mif\u001b[0m\u001b[0;34m(\u001b[0m\u001b[0msoundmodel\u001b[0m\u001b[0;34m==\u001b[0m\u001b[0;34m'vocal'\u001b[0m\u001b[0;34m)\u001b[0m\u001b[0;34m:\u001b[0m\u001b[0;34m\u001b[0m\u001b[0m\n\u001b[1;32m    152\u001b[0m         sc_msg(0, \"/s_new\", [\"jj1\", 1002+numpy.random.randint(900), 1,1] + \n",
      "\u001b[0;32m/Users/sozen/Desktop/EmosonicApps/EmoSonics-Emo2SoundExperiment/emosoundrating/EmoSonics-soundmodels.py\u001b[0m in \u001b[0;36mparvecmap\u001b[0;34m(parspec, vec)\u001b[0m\n\u001b[1;32m    140\u001b[0m \u001b[0;34m\u001b[0m\u001b[0m\n\u001b[1;32m    141\u001b[0m \u001b[0;32mdef\u001b[0m \u001b[0mparvecmap\u001b[0m\u001b[0;34m(\u001b[0m\u001b[0mparspec\u001b[0m\u001b[0;34m,\u001b[0m \u001b[0mvec\u001b[0m\u001b[0;34m)\u001b[0m\u001b[0;34m:\u001b[0m\u001b[0;34m\u001b[0m\u001b[0m\n\u001b[0;32m--> 142\u001b[0;31m     \u001b[0;32mreturn\u001b[0m \u001b[0mnumpy\u001b[0m\u001b[0;34m.\u001b[0m\u001b[0marray\u001b[0m\u001b[0;34m(\u001b[0m\u001b[0;34m[\u001b[0m\u001b[0mparmap\u001b[0m\u001b[0;34m(\u001b[0m\u001b[0mparspec\u001b[0m\u001b[0;34m[\u001b[0m\u001b[0mk\u001b[0m\u001b[0;34m]\u001b[0m\u001b[0;34m,\u001b[0m \u001b[0mv\u001b[0m\u001b[0;34m)\u001b[0m \u001b[0;32mfor\u001b[0m \u001b[0mk\u001b[0m\u001b[0;34m,\u001b[0m\u001b[0mv\u001b[0m \u001b[0;32min\u001b[0m \u001b[0menumerate\u001b[0m\u001b[0;34m(\u001b[0m\u001b[0mvec\u001b[0m\u001b[0;34m)\u001b[0m\u001b[0;34m]\u001b[0m\u001b[0;34m)\u001b[0m\u001b[0;34m\u001b[0m\u001b[0m\n\u001b[0m\u001b[1;32m    143\u001b[0m \u001b[0;32mdef\u001b[0m \u001b[0mparvecunmap\u001b[0m\u001b[0;34m(\u001b[0m\u001b[0mparspec\u001b[0m\u001b[0;34m,\u001b[0m \u001b[0mvec\u001b[0m\u001b[0;34m)\u001b[0m\u001b[0;34m:\u001b[0m\u001b[0;34m\u001b[0m\u001b[0m\n\u001b[1;32m    144\u001b[0m     \u001b[0;32mreturn\u001b[0m \u001b[0mnumpy\u001b[0m\u001b[0;34m.\u001b[0m\u001b[0marray\u001b[0m\u001b[0;34m(\u001b[0m\u001b[0;34m[\u001b[0m\u001b[0mparunmap\u001b[0m\u001b[0;34m(\u001b[0m\u001b[0mparspec\u001b[0m\u001b[0;34m[\u001b[0m\u001b[0mk\u001b[0m\u001b[0;34m]\u001b[0m\u001b[0;34m,\u001b[0m \u001b[0mv\u001b[0m\u001b[0;34m)\u001b[0m \u001b[0;32mfor\u001b[0m \u001b[0mk\u001b[0m\u001b[0;34m,\u001b[0m\u001b[0mv\u001b[0m \u001b[0;32min\u001b[0m \u001b[0menumerate\u001b[0m\u001b[0;34m(\u001b[0m\u001b[0mvec\u001b[0m\u001b[0;34m)\u001b[0m\u001b[0;34m]\u001b[0m\u001b[0;34m)\u001b[0m\u001b[0;34m\u001b[0m\u001b[0m\n",
      "\u001b[0;31mIndexError\u001b[0m: index 11 is out of bounds for axis 0 with size 11"
     ]
    }
   ],
   "source": [
    "sm = 'abstract'\n",
    "ipAddr = socket.gethostbyname(socket.getfqdn())\n",
    "sonmod.playevent(sm, [0.8,0.5,0.5,0.5,0.5,0.5,0.5,0.5,0.5,0.5,0.5,0.5])"
   ]
  },
  {
   "cell_type": "code",
   "execution_count": 10,
   "metadata": {
    "collapsed": true
   },
   "outputs": [],
   "source": [
    "# study related service functions\n",
    "def savedata(dataset, prefix=\"user-soundmodel-run-\"):\n",
    "    df = pandas.DataFrame(data, \n",
    "        columns=['uid', 'snd', 'run', 'step', 'time', 'parvec', 'emotion', 'intensity'])\n",
    "    df.to_csv(prefix + time.strftime(\"-%Y%m%d-%H%M%S\") + \".csv\", index=False)\n",
    "    data.append([userid.value, soundmodel.value, run.value, \n",
    "                 count, time.time()-start_time, v, \n",
    "                 wRBtarget.value, wRBintensity.value])\n",
    "    \n",
    "\n",
    "\n",
    "\n",
    "def mutate(parent, sigma=0.1):\n",
    "    d=size(parent)\n",
    "    print parent\n",
    "    print \"size is \" + str(d)\n",
    "    child = clip((parent + sigma*numpy.random.randn(d)), 0, 1)\n",
    "    return child\n",
    "\n",
    "def create_next_generation(parentvec, sigma, nr_of_children=4):\n",
    "    global generation_counter, v\n",
    "    generation_counter += 1\n",
    "    return [parentvec] + [mutate(parentvec, sigma) for k in range(nr_of_children)]"
   ]
  },
  {
   "cell_type": "markdown",
   "metadata": {},
   "source": [
    "## 6. EmoSonics Sound Rating Interface\n",
    "### 6.1. Admin-Interface"
   ]
  },
  {
   "cell_type": "code",
   "execution_count": 11,
   "metadata": {
    "collapsed": false
   },
   "outputs": [],
   "source": [
    "log_sigma_initval = -0.8\n",
    "log_sigma_step    = -0.2\n",
    "\n",
    "#targetlist = ['happy', 'surprised', 'angry', 'disgusted', 'sad', 'calm'];\n",
    "targetlist = ['happy', 'surprised', 'angry', 'afraid', 'neutral', 'disgusted', \n",
    "              'sad', 'tired', 'calm'];\n",
    "degreelist = ['-', 'weak', 'average', 'strong']\n",
    "\n",
    "\n",
    "studyprefix= widgets.Text( value=\"rating-emo9\", description='studyprefix:', padding=10); \n",
    "userid     = widgets.IntText( value=3001, description='UserID:', padding=10); \n",
    "username   = widgets.Text( value=\"myname\", description='Username:', padding=10); \n",
    "soundmodel = widgets.ToggleButtons(value=\"vocal\", padding=10,\n",
    "                description='Sound model:', options=['abstract', 'vocal'])\n",
    "run        = widgets.IntText(value=0, description='Run (>0):', padding=10);\n",
    "nrStim     = widgets.IntText(value=10, description='NrStim:', padding=10);\n",
    "\n",
    "display(studyprefix, userid, username, soundmodel, run, nrStim)"
   ]
  },
  {
   "cell_type": "code",
   "execution_count": null,
   "metadata": {
    "collapsed": true
   },
   "outputs": [],
   "source": []
  },
  {
   "cell_type": "markdown",
   "metadata": {},
   "source": [
    "### 6.2. User-Interface"
   ]
  },
  {
   "cell_type": "code",
   "execution_count": 12,
   "metadata": {
    "collapsed": false
   },
   "outputs": [],
   "source": [
    "# initialize run\n",
    "data = []  # time, target state, generation_counter, sigma, parvec, ratings\n",
    "count = 0\n",
    "start_time = time.time()\n",
    "\n",
    "v = sonmod.parvecunmap(sonmod.parspecs[soundmodel.value], \n",
    "                   sonmod.parspecs[soundmodel.value]['default'].tolist())\n",
    "\n",
    "def reset_settings():\n",
    "    \"\"\"GUI resets / updates on clicking next\"\"\"\n",
    "    global wRBtarget, wRBintensity, count, start_time;\n",
    "    if(soundmodel.value=='vocal'):    ps = sonmod.parspec_vocal\n",
    "    if(soundmodel.value=='abstract'): ps = sonmod.parspec_abstract\n",
    "    wRBtarget.value = 'neutral'\n",
    "    wRBintensity.value = '-'\n",
    "    wT.value= \"%d / %d\" % (count, nrStim.value)\n",
    "    \n",
    "def playfn(val): \n",
    "    global v\n",
    "    sonmod.playevent(soundmodel.value, v)\n",
    "\n",
    "wBplay = widgets.Button(description='play', value=\"4\", padding=10, width=150)\n",
    "wBplay.on_click(playfn)\n",
    "\n",
    "wT = widgets.HTML(value=\"step: - / -\")\n",
    "\n",
    "wRBtarget = widgets.ToggleButtons(\n",
    "    description='emotion',\n",
    "    options=targetlist,\n",
    "    padding=10)\n",
    "\n",
    "wRBintensity = widgets.ToggleButtons(\n",
    "    description='degree',\n",
    "    options=['-', 'weak', 'average', 'strong'],\n",
    "    padding=10)\n",
    "\n",
    "def submit(arg):\n",
    "    global v, data, count\n",
    "    data.append([userid.value, soundmodel.value, run.value, \n",
    "                 count, time.time()-start_time, v, \n",
    "                 wRBtarget.value, wRBintensity.value])\n",
    "    count +=1;\n",
    "    reset_settings()\n",
    "    v = mutate(v, 0.4)\n",
    "    playfn(0)\n",
    "    if(count>nrStim.value-1):\n",
    "        print \"completed. thanks.\"\n",
    "        fname = \"../data/%s-%s-run%d\" % (username.value, soundmodel.value, run.value)\n",
    "        savedata(data, fname)\n",
    "        print \"data saved to \" + fname\n",
    "        print \"Please inform the operator.\"\n",
    "\n",
    "wBnext = widgets.Button(description='next', padding=10)\n",
    "wBnext.on_click(submit)\n",
    "\n",
    "display(wT, wBplay)\n",
    "display(wRBtarget, wRBintensity, wBnext)\n",
    "reset_settings()\n",
    "\n",
    "# EmoSonic User Interface - Please rate the sounds"
   ]
  },
  {
   "cell_type": "code",
   "execution_count": 13,
   "metadata": {
    "collapsed": false
   },
   "outputs": [
    {
     "data": {
      "text/plain": [
       "12"
      ]
     },
     "execution_count": 13,
     "metadata": {},
     "output_type": "execute_result"
    }
   ],
   "source": [
    "np.size(v)"
   ]
  },
  {
   "cell_type": "code",
   "execution_count": 14,
   "metadata": {
    "collapsed": true
   },
   "outputs": [],
   "source": [
    "import OSC,threading"
   ]
  },
  {
   "cell_type": "code",
   "execution_count": 15,
   "metadata": {
    "collapsed": true
   },
   "outputs": [],
   "source": [
    "pf = 'rating-emo9'\n",
    "uid = '3001'\n",
    "un = 'myname'\n",
    "run = 0\n",
    "ns = '4'"
   ]
  },
  {
   "cell_type": "code",
   "execution_count": 27,
   "metadata": {
    "collapsed": true
   },
   "outputs": [],
   "source": [
    "\n",
    "data = []\n",
    "class Rating_receiver:\n",
    "    def __init__(self, ip = '192.168.0.3', port = 7100, num_emotion = 9, num_degree = 4):\n",
    "        self.receive_address = ip, port\n",
    "        self.num_emotion = num_emotion\n",
    "        self.num_degree = num_degree\n",
    "        self.choice = targetlist[0]\n",
    "        self.degree = degreelist[0]\n",
    "        self.count = 0\n",
    "        \n",
    "     \n",
    "    def spawn(self):\n",
    "        print\"Server Created.\"\n",
    "        self.receiveServer = OSC.OSCServer(self.receive_address) # create a serve to receive OSC from the tablet\n",
    "        self.receiveServer.addDefaultHandlers()\n",
    "        \n",
    "    def initilisation_handler(self, addr, tags, stuff, source):\n",
    "        global sm, pf, uid, un, run, ns\n",
    "        pf = stuff[0]\n",
    "        uid = stuff[1]\n",
    "        un = stuff[2]\n",
    "        sm = stuff[3]\n",
    "        run = int(stuff[4])\n",
    "        ns = stuff[5]\n",
    "        print stuff\n",
    "\n",
    "    # Emotion (Happy, surprised,..) change \n",
    "    def emotion_handler(self, addr, tags, stuff, source):\n",
    "        self.choice = targetlist[stuff[0]]\n",
    "        print stuff[0]\n",
    "        print self.choice\n",
    "    # Degree (Weak,average,..) change \n",
    "    def degree_handler(self, addr, tags, stuff, source):\n",
    "        self.degree = degreelist[stuff[0]]\n",
    "        print self.degree\n",
    "\n",
    "    # Play the sound based on the parameters\n",
    "    def play_handler(self, addr, tags, stuff, source):\n",
    "        global v, sm\n",
    "        v = mutate(v, 0.4)\n",
    "        sonmod.playevent(sm, v)\n",
    "        print \"inside play event \"\n",
    "\n",
    "    # Save the sound parameter, reset the settings and move to next sound rating\n",
    "    def next_handler(self, addr, tags, stuff, source):        \n",
    "        global v, data\n",
    "        data.append([uid, sm, run, \n",
    "                     self.count, time.time()-start_time, v, \n",
    "                     self.choice, self.degree])\n",
    "        reset_settings()\n",
    "        v = mutate(v, 0.4)\n",
    "        playfn(0)\n",
    "        self.count += 1\n",
    "        print \"next next handler\"\n",
    "\n",
    "    # Save the sound in a csv file \n",
    "    def save_handler(self, addr, tags, stuff, source):\n",
    "        global data, un, run\n",
    "        print \"completed. thanks.\"\n",
    "        fname = \"../data/%s-%s-run%d\" % (un, sm, run) # All 3 needs to be replaced. \n",
    "#         savedata(data, fname)\n",
    "        df = pandas.DataFrame(data, \n",
    "            columns=['uid', 'snd', 'run', 'step', 'time', 'parvec', 'emotion', 'intensity'])\n",
    "        df.to_csv(fname + time.strftime(\"-%Y%m%d-%H%M%S\") + \".csv\", index=False)\n",
    "        data.append([userid.value, sm, run, \n",
    "                     self.count, time.time()-start_time, v, \n",
    "                     self.choice, self.degree])\n",
    "        print \"data saved to \" + fname\n",
    "        print \"Please inform the operator.\"\n",
    "        self.count = 0 # Reset counter. \n",
    "\n",
    "    \n",
    "    def add_handler(self):\n",
    "        self.receiveServer.addMsgHandler(\"/play\", self.play_handler)\n",
    "        self.receiveServer.addMsgHandler(\"/next\", self.next_handler)\n",
    "        self.receiveServer.addMsgHandler(\"/emo\", self.emotion_handler)\n",
    "        self.receiveServer.addMsgHandler(\"/degree\", self.degree_handler)\n",
    "        self.receiveServer.addMsgHandler(\"/save\", self.save_handler)\n",
    "        self.receiveServer.addMsgHandler(\"/init\", self.initilisation_handler)\n",
    "            \n",
    "    def print_registered_func(self):\n",
    "        for addr in self.receiveServer.getOSCAddressSpace():\n",
    "            print addr\n",
    "            \n",
    "    def start(self):\n",
    "        # Start OSCServer\n",
    "        print \"\\nStarting OSCServer.\"\n",
    "        self.emorating_oscServer = threading.Thread(target = self.receiveServer.serve_forever)\n",
    "        self.emorating_oscServer.start()\n",
    "        print \"\\nOSCServer established.\"\n",
    "        \n",
    "    def stop(self):\n",
    "        # Close the OSC server\n",
    "        print \"\\nClosing OSCServer.\"\n",
    "        self.receiveServer.close()\n",
    "        print \"Waiting for Server-thread to finish\"\n",
    "        try:\n",
    "            self.emorating_oscServer.join() ##!!!\n",
    "            print \"Done\"\n",
    "        except AttributeError:\n",
    "            print \"Done\"\n"
   ]
  },
  {
   "cell_type": "code",
   "execution_count": 29,
   "metadata": {
    "collapsed": false
   },
   "outputs": [
    {
     "name": "stdout",
     "output_type": "stream",
     "text": [
      "Server Created.\n",
      "\n",
      "Starting OSCServer.\n",
      "\n",
      "OSCServer established.\n",
      "-\n",
      "1\n",
      "surprised\n",
      "[ 0.76826678  0.          0.63333333  0.          0.          0.46153846\n",
      "  0.5         0.          0.          0.625       0.5         0.37499999]\n",
      "size is 12\n",
      "next next handler\n"
     ]
    }
   ],
   "source": [
    "init_receiver = Rating_receiver (ip = ipAddr, port = 8022,num_emotion = 9, num_degree = 4)\n",
    "init_receiver.spawn()\n",
    "init_receiver.add_handler()\n",
    "init_receiver.start()"
   ]
  },
  {
   "cell_type": "code",
   "execution_count": 21,
   "metadata": {
    "collapsed": false
   },
   "outputs": [
    {
     "name": "stdout",
     "output_type": "stream",
     "text": [
      "10.68.188.32\n",
      "myname\n",
      "0\n",
      "4\n",
      "abstract\n"
     ]
    },
    {
     "name": "stderr",
     "output_type": "stream",
     "text": [
      "OSCServer: IndexError on request from 10.68.163.11:60081: index 11 is out of bounds for axis 0 with size 11\n"
     ]
    }
   ],
   "source": [
    "print ipAddr\n",
    "print un\n",
    "print run\n",
    "print ns\n",
    "print sm\n"
   ]
  },
  {
   "cell_type": "code",
   "execution_count": 28,
   "metadata": {
    "collapsed": false
   },
   "outputs": [
    {
     "name": "stdout",
     "output_type": "stream",
     "text": [
      "\n",
      "Closing OSCServer.\n",
      "Waiting for Server-thread to finish\n",
      "Done\n"
     ]
    },
    {
     "name": "stderr",
     "output_type": "stream",
     "text": [
      "Exception in thread Thread-7:\n",
      "Traceback (most recent call last):\n",
      "  File \"/Users/sozen/anaconda/lib/python2.7/threading.py\", line 801, in __bootstrap_inner\n",
      "    self.run()\n",
      "  File \"/Users/sozen/anaconda/lib/python2.7/threading.py\", line 754, in run\n",
      "    self.__target(*self.__args, **self.__kwargs)\n",
      "  File \"/Users/sozen/anaconda/lib/python2.7/site-packages/OSC.py\", line 1816, in serve_forever\n",
      "    self.handle_request()\t# this times-out when no data arrives.\n",
      "  File \"/Users/sozen/anaconda/lib/python2.7/SocketServer.py\", line 271, in handle_request\n",
      "    fd_sets = _eintr_retry(select.select, [self], [], [], timeout)\n",
      "  File \"/Users/sozen/anaconda/lib/python2.7/SocketServer.py\", line 150, in _eintr_retry\n",
      "    return func(*args)\n",
      "error: (9, 'Bad file descriptor')\n",
      "\n"
     ]
    }
   ],
   "source": [
    "try:\n",
    "    init_receiver.stop()\n",
    "except:\n",
    "    print \"OK\""
   ]
  },
  {
   "cell_type": "code",
   "execution_count": null,
   "metadata": {
    "collapsed": true
   },
   "outputs": [],
   "source": [
    "rating_receiver = Rating_receiver(ip = ipAddr, port = 7110, num_emotion = 9, num_degree = 4)\n",
    "rating_receiver.spawn() # create a receiver server. \n",
    "rating_receiver.add_handler()"
   ]
  },
  {
   "cell_type": "code",
   "execution_count": null,
   "metadata": {
    "collapsed": true
   },
   "outputs": [],
   "source": [
    "# initialize run\n",
    "data = []  # time, target state, generation_counter, sigma, parvec, ratings\n",
    "count = 0\n",
    "start_time = time.time()\n",
    "\n",
    "v = sonmod.parvecunmap(sonmod.parspecs[soundmodel.value], \n",
    "                   sonmod.parspecs[soundmodel.value]['default'].tolist())\n",
    "rating_receiver.start()"
   ]
  },
  {
   "cell_type": "code",
   "execution_count": null,
   "metadata": {
    "collapsed": true
   },
   "outputs": [],
   "source": [
    "rating_receiver.stop()\n"
   ]
  },
  {
   "cell_type": "code",
   "execution_count": null,
   "metadata": {
    "collapsed": true
   },
   "outputs": [],
   "source": []
  }
 ],
 "metadata": {
  "anaconda-cloud": {},
  "kernelspec": {
   "display_name": "Python [default]",
   "language": "python",
   "name": "python2"
  },
  "language_info": {
   "codemirror_mode": {
    "name": "ipython",
    "version": 2
   },
   "file_extension": ".py",
   "mimetype": "text/x-python",
   "name": "python",
   "nbconvert_exporter": "python",
   "pygments_lexer": "ipython2",
   "version": "2.7.12"
  },
  "widgets": {
   "state": {
    "0a3083a09de441ecbbbdb62fcf07a30a": {
     "views": [
      {
       "cell_index": 9
      }
     ]
    },
    "0dfbf9de06184518956112b2ed362175": {
     "views": [
      {
       "cell_index": 9
      }
     ]
    },
    "127fac1bbab84128ac4f68f746f615d0": {
     "views": [
      {
       "cell_index": 6
      }
     ]
    },
    "3ea54b0bf2034f89a7e937ccfbd1f8e1": {
     "views": [
      {
       "cell_index": 6
      }
     ]
    },
    "5d5fc3426e1747c8bab5d0aead078f55": {
     "views": [
      {
       "cell_index": 9
      }
     ]
    },
    "73ab3f2e2c2045d0914c9d5a4a68bd22": {
     "views": [
      {
       "cell_index": 9
      }
     ]
    },
    "89214b034ad347aebfdd00f6dbbf4d2d": {
     "views": [
      {
       "cell_index": 9
      }
     ]
    },
    "8b5a1acab905416386ce092aabd8a060": {
     "views": [
      {
       "cell_index": 6
      }
     ]
    },
    "b00339d98b5c488abc30c74f59df6d44": {
     "views": [
      {
       "cell_index": 6
      }
     ]
    },
    "b991761737174d709a0ab4463dd8919b": {
     "views": [
      {
       "cell_index": 6
      }
     ]
    },
    "bc204b55514d4af297fc8f2e86050cda": {
     "views": [
      {
       "cell_index": 6
      }
     ]
    },
    "be3a28be414f41558254844276623fff": {
     "views": [
      {
       "cell_index": 6
      }
     ]
    },
    "d481abe1962541119f61776f49b97bbf": {
     "views": [
      {
       "cell_index": 6
      }
     ]
    },
    "fd1056754e5d41fc9764aa2787a775dd": {
     "views": [
      {
       "cell_index": 6
      }
     ]
    }
   },
   "version": "1.2.0"
  }
 },
 "nbformat": 4,
 "nbformat_minor": 1
}
