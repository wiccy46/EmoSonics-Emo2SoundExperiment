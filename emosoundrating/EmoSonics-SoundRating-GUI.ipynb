{
 "cells": [
  {
   "cell_type": "markdown",
   "metadata": {},
   "source": [
    "# EmoSonics RateSounds-GUI\n",
    "\n",
    "This GUI uses the sound models (abstract, vocal) developed for the AudioMostly paper\n",
    "They have been exported into a py file...\n",
    "On import, this should start superCollider and create an SC class to interact with.\n",
    "\n",
    "The GUI itself does..."
   ]
  },
  {
   "cell_type": "code",
   "execution_count": 1,
   "metadata": {
    "collapsed": false
   },
   "outputs": [
    {
     "name": "stdout",
     "output_type": "stream",
     "text": [
      "Using matplotlib backend: MacOSX\n",
      "Populating the interactive namespace from numpy and matplotlib\n"
     ]
    }
   ],
   "source": [
    "%pylab\n",
    "import ipywidgets as widgets\n",
    "from functools import partial\n",
    "from IPython.display import display\n",
    "import pandas\n",
    "import time, socket"
   ]
  },
  {
   "cell_type": "code",
   "execution_count": 2,
   "metadata": {
    "collapsed": false
   },
   "outputs": [
    {
     "name": "stdout",
     "output_type": "stream",
     "text": [
      "wait for SC to start...\n",
      "resume: establish OSC interfaces...\n"
     ]
    }
   ],
   "source": [
    "import imp\n",
    "sonmod = imp.load_source('sonmod', 'EmoSonics-soundmodels.py')\n",
    "# I moved it from .py to here to accomodate the non notebook version of rating\n",
    "print \"wait for SC to start...\"\n",
    "time.sleep(5); # wait until SC is started...\n",
    "print \"resume: establish OSC interfaces...\""
   ]
  },
  {
   "cell_type": "code",
   "execution_count": 3,
   "metadata": {
    "collapsed": false
   },
   "outputs": [],
   "source": [
    "sm = 'abstract'\n",
    "ipAddr = socket.gethostbyname(socket.getfqdn())\n",
    "#sonmod.playevent(sm, [0.8,0.5,0.5,0.5,0.5,0.5,0.5,0.5,0.5,0.5,0.5,0.5])"
   ]
  },
  {
   "cell_type": "code",
   "execution_count": 4,
   "metadata": {
    "collapsed": true
   },
   "outputs": [],
   "source": [
    "# study related service functions\n",
    "def savedata(dataset, prefix=\"user-soundmodel-run-\"):\n",
    "    df = pandas.DataFrame(data, \n",
    "        columns=['uid', 'snd', 'run', 'step', 'time', 'parvec', 'emotion', 'intensity'])\n",
    "    df.to_csv(prefix + time.strftime(\"-%Y%m%d-%H%M%S\") + \".csv\", index=False)\n",
    "    data.append([userid.value, soundmodel.value, run.value, \n",
    "                 count, time.time()-start_time, v, \n",
    "                 wRBtarget.value, wRBintensity.value])\n",
    "    \n",
    "\n",
    "\n",
    "\n",
    "def mutate(parent, sigma=0.1):\n",
    "    d=size(parent)\n",
    "    print parent\n",
    "    print \"size is \" + str(d)\n",
    "    child = clip((parent + sigma*numpy.random.randn(d)), 0, 1)\n",
    "    return child\n",
    "\n",
    "def create_next_generation(parentvec, sigma, nr_of_children=4):\n",
    "    global generation_counter, v\n",
    "    generation_counter += 1\n",
    "    return [parentvec] + [mutate(parentvec, sigma) for k in range(nr_of_children)]"
   ]
  },
  {
   "cell_type": "markdown",
   "metadata": {},
   "source": [
    "## 6. EmoSonics Sound Rating Interface\n",
    "### 6.1. Admin-Interface"
   ]
  },
  {
   "cell_type": "code",
   "execution_count": 5,
   "metadata": {
    "collapsed": false
   },
   "outputs": [],
   "source": [
    "log_sigma_initval = -0.8\n",
    "log_sigma_step    = -0.2\n",
    "\n",
    "#targetlist = ['happy', 'surprised', 'angry', 'disgusted', 'sad', 'calm'];\n",
    "targetlist = ['happy', 'surprised', 'angry', 'afraid', 'neutral', 'disgusted', \n",
    "              'sad', 'tired', 'calm'];\n",
    "degreelist = ['-', 'weak', 'average', 'strong']\n",
    "\n",
    "\n",
    "studyprefix= widgets.Text( value=\"rating-emo9\", description='studyprefix:', padding=10); \n",
    "userid     = widgets.IntText( value=3001, description='UserID:', padding=10); \n",
    "username   = widgets.Text( value=\"myname\", description='Username:', padding=10); \n",
    "soundmodel = widgets.ToggleButtons(value=\"vocal\", padding=10,\n",
    "                description='Sound model:', options=['abstract', 'vocal'])\n",
    "run        = widgets.IntText(value=0, description='Run (>0):', padding=10);\n",
    "nrStim     = widgets.IntText(value=10, description='NrStim:', padding=10);\n",
    "\n",
    "display(studyprefix, userid, username, soundmodel, run, nrStim)"
   ]
  },
  {
   "cell_type": "code",
   "execution_count": null,
   "metadata": {
    "collapsed": true
   },
   "outputs": [],
   "source": []
  },
  {
   "cell_type": "markdown",
   "metadata": {},
   "source": [
    "### 6.2. User-Interface"
   ]
  },
  {
   "cell_type": "code",
   "execution_count": 6,
   "metadata": {
    "collapsed": false
   },
   "outputs": [],
   "source": [
    "# initialize run\n",
    "data = []  # time, target state, generation_counter, sigma, parvec, ratings\n",
    "count = 0\n",
    "start_time = time.time()\n",
    "\n",
    "v = sonmod.parvecunmap(sonmod.parspecs[soundmodel.value], \n",
    "                   sonmod.parspecs[soundmodel.value]['default'].tolist())\n",
    "\n",
    "def reset_settings():\n",
    "    \"\"\"GUI resets / updates on clicking next\"\"\"\n",
    "    global wRBtarget, wRBintensity, count, start_time;\n",
    "    if(soundmodel.value=='vocal'):    ps = sonmod.parspec_vocal\n",
    "    if(soundmodel.value=='abstract'): ps = sonmod.parspec_abstract\n",
    "    wRBtarget.value = 'neutral'\n",
    "    wRBintensity.value = '-'\n",
    "    wT.value= \"%d / %d\" % (count, nrStim.value)\n",
    "    \n",
    "def playfn(val): \n",
    "    global v\n",
    "    sonmod.playevent(soundmodel.value, v)\n",
    "\n",
    "wBplay = widgets.Button(description='play', value=\"4\", padding=10, width=150)\n",
    "wBplay.on_click(playfn)\n",
    "\n",
    "wT = widgets.HTML(value=\"step: - / -\")\n",
    "\n",
    "wRBtarget = widgets.ToggleButtons(\n",
    "    description='emotion',\n",
    "    options=targetlist,\n",
    "    padding=10)\n",
    "\n",
    "wRBintensity = widgets.ToggleButtons(\n",
    "    description='degree',\n",
    "    options=['-', 'weak', 'average', 'strong'],\n",
    "    padding=10)\n",
    "\n",
    "def submit(arg):\n",
    "    global v, data, count\n",
    "    data.append([userid.value, soundmodel.value, run.value, \n",
    "                 count, time.time()-start_time, v, \n",
    "                 wRBtarget.value, wRBintensity.value])\n",
    "    count +=1;\n",
    "    reset_settings()\n",
    "    v = mutate(v, 0.4)\n",
    "    playfn(0)\n",
    "    if(count>nrStim.value-1):\n",
    "        print \"completed. thanks.\"\n",
    "        fname = \"../data/%s-%s-run%d\" % (username.value, soundmodel.value, run.value)\n",
    "        savedata(data, fname)\n",
    "        print \"data saved to \" + fname\n",
    "        print \"Please inform the operator.\"\n",
    "\n",
    "wBnext = widgets.Button(description='next', padding=10)\n",
    "wBnext.on_click(submit)\n",
    "\n",
    "display(wT, wBplay)\n",
    "display(wRBtarget, wRBintensity, wBnext)\n",
    "reset_settings()\n",
    "\n",
    "# EmoSonic User Interface - Please rate the sounds"
   ]
  },
  {
   "cell_type": "code",
   "execution_count": 8,
   "metadata": {
    "collapsed": true
   },
   "outputs": [],
   "source": [
    "import OSC,threading"
   ]
  },
  {
   "cell_type": "code",
   "execution_count": 9,
   "metadata": {
    "collapsed": true
   },
   "outputs": [],
   "source": [
    "pf = 'rating-emo9'\n",
    "uid = '3001'\n",
    "un = 'myname'\n",
    "run = 0\n",
    "ns = '4'"
   ]
  },
  {
   "cell_type": "code",
   "execution_count": 16,
   "metadata": {
    "collapsed": true
   },
   "outputs": [],
   "source": [
    "\n",
    "data = []\n",
    "class Rating_receiver:\n",
    "    def __init__(self, ip = '192.168.0.3', port = 7100, num_emotion = 9, num_degree = 4):\n",
    "        self.receive_address = ip, port\n",
    "        self.num_emotion = num_emotion\n",
    "        self.num_degree = num_degree\n",
    "        self.choice = targetlist[0]\n",
    "        self.degree = degreelist[0]\n",
    "        self.count = 0\n",
    "        \n",
    "     \n",
    "    def spawn(self):\n",
    "        print\"Server Created.\"\n",
    "        self.receiveServer = OSC.OSCServer(self.receive_address) # create a serve to receive OSC from the tablet\n",
    "        self.receiveServer.addDefaultHandlers()\n",
    "        \n",
    "    def initilisation_handler(self, addr, tags, stuff, source):\n",
    "        global sm, pf, uid, un, run, ns\n",
    "        pf = stuff[0]\n",
    "        uid = stuff[1]\n",
    "        un = stuff[2]\n",
    "        sm = stuff[3]\n",
    "        run = int(stuff[4])\n",
    "        ns = stuff[5]\n",
    "        print stuff\n",
    "\n",
    "    # Emotion (Happy, surprised,..) change \n",
    "    def emotion_handler(self, addr, tags, stuff, source):\n",
    "        self.choice = targetlist[stuff[0]]\n",
    "        print stuff[0]\n",
    "        print self.choice\n",
    "    # Degree (Weak,average,..) change \n",
    "    def degree_handler(self, addr, tags, stuff, source):\n",
    "        self.degree = degreelist[stuff[0]]\n",
    "        print self.degree\n",
    "\n",
    "    # Play the sound based on the parameters\n",
    "    def play_handler(self, addr, tags, stuff, source):\n",
    "        global v, sm\n",
    "        print \"inside play event \"\n",
    "        v = mutate(v, 0.4)\n",
    "        playfn(0)\n",
    "        #sonmod.playevent(sm, v)\n",
    "        \n",
    "\n",
    "    # Save the sound parameter, reset the settings and move to next sound rating\n",
    "    def next_handler(self, addr, tags, stuff, source):        \n",
    "        global v, data\n",
    "        data.append([uid, sm, run, \n",
    "                     self.count, time.time()-start_time, v, \n",
    "                     self.choice, self.degree])\n",
    "        reset_settings()\n",
    "        v = mutate(v, 0.4)\n",
    "        playfn(0)\n",
    "        self.count += 1\n",
    "        print \"next next handler\"\n",
    "\n",
    "    # Save the sound in a csv file \n",
    "    def save_handler(self, addr, tags, stuff, source):\n",
    "        global data, un, run\n",
    "        print \"completed. thanks.\"\n",
    "        fname = \"../data/%s-%s-run%d\" % (un, sm, run) # All 3 needs to be replaced. \n",
    "#         savedata(data, fname)\n",
    "        df = pandas.DataFrame(data, \n",
    "            columns=['uid', 'snd', 'run', 'step', 'time', 'parvec', 'emotion', 'intensity'])\n",
    "        df.to_csv(fname + time.strftime(\"-%Y%m%d-%H%M%S\") + \".csv\", index=False)\n",
    "        data.append([userid.value, sm, run, \n",
    "                     self.count, time.time()-start_time, v, \n",
    "                     self.choice, self.degree])\n",
    "        print \"data saved to \" + fname\n",
    "        print \"Please inform the operator.\"\n",
    "        self.count = 0 # Reset counter. \n",
    "\n",
    "    \n",
    "    def add_handler(self):\n",
    "        self.receiveServer.addMsgHandler(\"/play\", self.play_handler)\n",
    "        self.receiveServer.addMsgHandler(\"/next\", self.next_handler)\n",
    "        self.receiveServer.addMsgHandler(\"/emo\", self.emotion_handler)\n",
    "        self.receiveServer.addMsgHandler(\"/degree\", self.degree_handler)\n",
    "        self.receiveServer.addMsgHandler(\"/save\", self.save_handler)\n",
    "        self.receiveServer.addMsgHandler(\"/init\", self.initilisation_handler)\n",
    "            \n",
    "    def print_registered_func(self):\n",
    "        for addr in self.receiveServer.getOSCAddressSpace():\n",
    "            print addr\n",
    "            \n",
    "    def start(self):\n",
    "        # Start OSCServer\n",
    "        print \"\\nStarting OSCServer.\"\n",
    "        self.emorating_oscServer = threading.Thread(target = self.receiveServer.serve_forever)\n",
    "        self.emorating_oscServer.start()\n",
    "        print \"\\nOSCServer established.\"\n",
    "        \n",
    "    def stop(self):\n",
    "        # Close the OSC server\n",
    "        print \"\\nClosing OSCServer.\"\n",
    "        self.receiveServer.close()\n",
    "        print \"Waiting for Server-thread to finish\"\n",
    "        try:\n",
    "            self.emorating_oscServer.join() ##!!!\n",
    "            print \"Done\"\n",
    "        except AttributeError:\n",
    "            print \"Done\"\n"
   ]
  },
  {
   "cell_type": "code",
   "execution_count": 18,
   "metadata": {
    "collapsed": false
   },
   "outputs": [
    {
     "name": "stdout",
     "output_type": "stream",
     "text": [
      "Server Created.\n",
      "\n",
      "Starting OSCServer.\n",
      "\n",
      "OSCServer established.\n",
      "inside play event \n",
      "[ 0.21511348  0.1128178   0.49460968  0.27672138  1.          0.46390929\n",
      "  0.43955879  0.02493704  0.20854812  0.03447285  0.62726647  0.87329051]\n",
      "size is 12\n",
      "inside play event \n",
      "[ 0.0482954   0.          0.36488765  0.2824059   0.68535281  1.\n",
      "  0.50085106  0.63622876  0.          0.40324368  0.64126115  0.57319236]\n",
      "size is 12\n",
      "inside play event \n",
      "[ 0.31178994  0.          0.03113507  0.13548067  0.87124897  1.\n",
      "  0.48563593  0.63732474  0.23870848  0.69457725  0.50455044  1.        ]\n",
      "size is 12\n",
      "inside play event \n",
      "[ 0.4584182   0.10988999  0.          0.55534942  0.89306523  1.          0.\n",
      "  1.          0.88462538  1.          0.59727488  1.        ]\n",
      "size is 12\n",
      "inside play event \n",
      "[ 0.10163944  0.32630468  0.56082522  0.06332985  1.          0.49859412\n",
      "  0.30344119  0.88455034  0.77873419  1.          0.64689622  1.        ]\n",
      "size is 12\n",
      "-\n",
      "inside play event \n",
      "[ 0.4588041   0.81987377  1.          0.0026706   0.84034192  0.63513853\n",
      "  0.63354632  0.59874053  1.          0.84589214  0.2091795   0.79690121]\n",
      "size is 12\n"
     ]
    }
   ],
   "source": [
    "init_receiver = Rating_receiver (ip = ipAddr, port = 8022,num_emotion = 9, num_degree = 4)\n",
    "init_receiver.spawn()\n",
    "init_receiver.add_handler()\n",
    "init_receiver.start()"
   ]
  },
  {
   "cell_type": "code",
   "execution_count": 12,
   "metadata": {
    "collapsed": false
   },
   "outputs": [
    {
     "name": "stdout",
     "output_type": "stream",
     "text": [
      "129.70.149.124\n",
      "myname\n",
      "0\n",
      "4\n",
      "abstract\n",
      "['rating-emo9', '3001', 'myname', 'abstract', '2', '4']\n",
      "0\n",
      "happy\n",
      "1\n",
      "surprised\n",
      "[ 0.76826678  0.          0.63333333  0.          0.          0.46153846\n",
      "  0.5         0.          0.          0.625       0.5         0.37499999]\n",
      "size is 12\n"
     ]
    },
    {
     "name": "stderr",
     "output_type": "stream",
     "text": [
      "OSCServer: IndexError on request from ip-129-70-147-185.wlan.dyn.cit-ec.net:48631: index 11 is out of bounds for axis 0 with size 11\n"
     ]
    }
   ],
   "source": [
    "print ipAddr\n",
    "print un\n",
    "print run\n",
    "print ns\n",
    "print sm\n"
   ]
  },
  {
   "cell_type": "code",
   "execution_count": 19,
   "metadata": {
    "collapsed": false
   },
   "outputs": [
    {
     "name": "stdout",
     "output_type": "stream",
     "text": [
      "\n",
      "Closing OSCServer.\n",
      "Waiting for Server-thread to finish\n",
      "Done\n"
     ]
    },
    {
     "name": "stderr",
     "output_type": "stream",
     "text": [
      "Exception in thread Thread-6:\n",
      "Traceback (most recent call last):\n",
      "  File \"/Users/sozen/anaconda/lib/python2.7/threading.py\", line 801, in __bootstrap_inner\n",
      "    self.run()\n",
      "  File \"/Users/sozen/anaconda/lib/python2.7/threading.py\", line 754, in run\n",
      "    self.__target(*self.__args, **self.__kwargs)\n",
      "  File \"/Users/sozen/anaconda/lib/python2.7/site-packages/OSC.py\", line 1816, in serve_forever\n",
      "    self.handle_request()\t# this times-out when no data arrives.\n",
      "  File \"/Users/sozen/anaconda/lib/python2.7/SocketServer.py\", line 271, in handle_request\n",
      "    fd_sets = _eintr_retry(select.select, [self], [], [], timeout)\n",
      "  File \"/Users/sozen/anaconda/lib/python2.7/SocketServer.py\", line 150, in _eintr_retry\n",
      "    return func(*args)\n",
      "error: (9, 'Bad file descriptor')\n",
      "\n"
     ]
    }
   ],
   "source": [
    "try:\n",
    "    init_receiver.stop()\n",
    "except:\n",
    "    print \"OK\""
   ]
  },
  {
   "cell_type": "code",
   "execution_count": null,
   "metadata": {
    "collapsed": true
   },
   "outputs": [],
   "source": [
    "rating_receiver = Rating_receiver(ip = ipAddr, port = 7110, num_emotion = 9, num_degree = 4)\n",
    "rating_receiver.spawn() # create a receiver server. \n",
    "rating_receiver.add_handler()"
   ]
  },
  {
   "cell_type": "code",
   "execution_count": null,
   "metadata": {
    "collapsed": true
   },
   "outputs": [],
   "source": [
    "# initialize run\n",
    "data = []  # time, target state, generation_counter, sigma, parvec, ratings\n",
    "count = 0\n",
    "start_time = time.time()\n",
    "\n",
    "v = sonmod.parvecunmap(sonmod.parspecs[soundmodel.value], \n",
    "                   sonmod.parspecs[soundmodel.value]['default'].tolist())\n",
    "rating_receiver.start()"
   ]
  },
  {
   "cell_type": "code",
   "execution_count": null,
   "metadata": {
    "collapsed": true
   },
   "outputs": [],
   "source": [
    "rating_receiver.stop()\n"
   ]
  },
  {
   "cell_type": "code",
   "execution_count": null,
   "metadata": {
    "collapsed": true
   },
   "outputs": [],
   "source": []
  }
 ],
 "metadata": {
  "anaconda-cloud": {},
  "kernelspec": {
   "display_name": "Python [default]",
   "language": "python",
   "name": "python2"
  },
  "language_info": {
   "codemirror_mode": {
    "name": "ipython",
    "version": 2
   },
   "file_extension": ".py",
   "mimetype": "text/x-python",
   "name": "python",
   "nbconvert_exporter": "python",
   "pygments_lexer": "ipython2",
   "version": "2.7.12"
  },
  "widgets": {
   "state": {
    "00b3a997f01a411d8e9ec059f5b4701b": {
     "views": [
      {
       "cell_index": 6
      }
     ]
    },
    "0a3083a09de441ecbbbdb62fcf07a30a": {
     "views": [
      {
       "cell_index": 9
      }
     ]
    },
    "0bb94f4579d941ceb7112f9b87c81384": {
     "views": [
      {
       "cell_index": 9
      }
     ]
    },
    "0e49183d76fc434ebb15c98834f05333": {
     "views": [
      {
       "cell_index": 9
      }
     ]
    },
    "127fac1bbab84128ac4f68f746f615d0": {
     "views": [
      {
       "cell_index": 6
      }
     ]
    },
    "24ea2778fb0b45ccbb577cd8f5e2d8c9": {
     "views": [
      {
       "cell_index": 6
      }
     ]
    },
    "2d1adf4ee8a04fe5ba9739605f2e6c6a": {
     "views": [
      {
       "cell_index": 9
      }
     ]
    },
    "2f18fa4ea1a94dc3a0a774ef4a3cb9d5": {
     "views": [
      {
       "cell_index": 6
      }
     ]
    },
    "3ea54b0bf2034f89a7e937ccfbd1f8e1": {
     "views": [
      {
       "cell_index": 6
      }
     ]
    },
    "516d040e3d53436da263841956a62e72": {
     "views": [
      {
       "cell_index": 6
      }
     ]
    },
    "5d5fc3426e1747c8bab5d0aead078f55": {
     "views": [
      {
       "cell_index": 9
      }
     ]
    },
    "8896bf219ffd40f68c91cac9b657f12b": {
     "views": [
      {
       "cell_index": 9
      }
     ]
    },
    "8b5a1acab905416386ce092aabd8a060": {
     "views": [
      {
       "cell_index": 6
      }
     ]
    },
    "8fac3207b5dc4f7c966fdaf55421bbd3": {
     "views": [
      {
       "cell_index": 9
      }
     ]
    },
    "b00339d98b5c488abc30c74f59df6d44": {
     "views": [
      {
       "cell_index": 6
      }
     ]
    },
    "c874caeeb05742b1aea1caa0d023353f": {
     "views": [
      {
       "cell_index": 6
      }
     ]
    },
    "d481abe1962541119f61776f49b97bbf": {
     "views": [
      {
       "cell_index": 6
      }
     ]
    },
    "edfefab486d647a783f2f6f8d0eabda9": {
     "views": [
      {
       "cell_index": 6
      }
     ]
    },
    "fd1056754e5d41fc9764aa2787a775dd": {
     "views": [
      {
       "cell_index": 6
      }
     ]
    }
   },
   "version": "1.2.0"
  }
 },
 "nbformat": 4,
 "nbformat_minor": 1
}
