{
 "cells": [
  {
   "cell_type": "markdown",
   "metadata": {
    "deletable": true,
    "editable": true
   },
   "source": [
    "# EmoSonics: Emotion to Sound Experiment \n",
    "\n",
    "## Synthesis engines: SC3, MAX"
   ]
  },
  {
   "cell_type": "code",
   "execution_count": 1,
   "metadata": {
    "collapsed": false,
    "deletable": true,
    "editable": true
   },
   "outputs": [
    {
     "name": "stdout",
     "output_type": "stream",
     "text": [
      "Using matplotlib backend: MacOSX\n",
      "Populating the interactive namespace from numpy and matplotlib\n"
     ]
    }
   ],
   "source": [
    "%pylab\n",
    "import ipywidgets as widgets\n",
    "from functools import partial\n",
    "from IPython.display import display\n",
    "import pandas\n",
    "import pickle, time"
   ]
  },
  {
   "cell_type": "code",
   "execution_count": 8,
   "metadata": {
    "collapsed": false,
    "deletable": true,
    "editable": true
   },
   "outputs": [],
   "source": [
    "# first: select sound model \n",
    "#soundmodel = 'abstract'\n",
    "soundmodel = 'vocal'\n",
    "if (soundmodel == 'abstract'):\n",
    "    portMax = 9000\n",
    "else: portMax = 9001\n",
    "# Here the abstract and physilogical sounds used two different address. This is to prevent cross\n",
    "# triggering if two models are opened at the same time but only one is intended to be used. \n",
    "# vocal    (by TH) uses SC synth / server on port 57110\n",
    "# abstract (by JJ) uses MAX/Msp on port 9000\n",
    "# physiological (by JJ) uses MAX/Msp on port 9001"
   ]
  },
  {
   "cell_type": "code",
   "execution_count": null,
   "metadata": {
    "collapsed": false,
    "deletable": true,
    "editable": true
   },
   "outputs": [],
   "source": [
    "#import imp\n",
    "#pyson = imp.load_source('pyson', '/Users/thermann/Desktop/Inbox/pyson/pyson.py')"
   ]
  },
  {
   "cell_type": "code",
   "execution_count": 9,
   "metadata": {
    "collapsed": false,
    "deletable": true,
    "editable": true
   },
   "outputs": [
    {
     "ename": "OSError",
     "evalue": "[Errno 2] No such file or directory",
     "output_type": "error",
     "traceback": [
      "\u001b[0;31m---------------------------------------------------------------------------\u001b[0m",
      "\u001b[0;31mOSError\u001b[0m                                   Traceback (most recent call last)",
      "\u001b[0;32m<ipython-input-9-5cd7359300a7>\u001b[0m in \u001b[0;36m<module>\u001b[0;34m()\u001b[0m\n\u001b[1;32m      1\u001b[0m \u001b[0;32mimport\u001b[0m \u001b[0mimp\u001b[0m\u001b[0;34m\u001b[0m\u001b[0m\n\u001b[0;32m----> 2\u001b[0;31m \u001b[0msonmod\u001b[0m \u001b[0;34m=\u001b[0m \u001b[0mimp\u001b[0m\u001b[0;34m.\u001b[0m\u001b[0mload_source\u001b[0m\u001b[0;34m(\u001b[0m\u001b[0;34m'sonmod'\u001b[0m\u001b[0;34m,\u001b[0m \u001b[0;34m'EmoSonics-soundmodels.py'\u001b[0m\u001b[0;34m)\u001b[0m\u001b[0;34m\u001b[0m\u001b[0m\n\u001b[0m\u001b[1;32m      3\u001b[0m \u001b[0;31m# I moved it from .py to here to accomodate the non notebook version of rating\u001b[0m\u001b[0;34m\u001b[0m\u001b[0;34m\u001b[0m\u001b[0m\n\u001b[1;32m      4\u001b[0m \u001b[0;32mprint\u001b[0m \u001b[0;34m\"wait for SC to start...\"\u001b[0m\u001b[0;34m\u001b[0m\u001b[0m\n\u001b[1;32m      5\u001b[0m \u001b[0mtime\u001b[0m\u001b[0;34m.\u001b[0m\u001b[0msleep\u001b[0m\u001b[0;34m(\u001b[0m\u001b[0;36m5\u001b[0m\u001b[0;34m)\u001b[0m\u001b[0;34m;\u001b[0m \u001b[0;31m# wait until SC is started...\u001b[0m\u001b[0;34m\u001b[0m\u001b[0m\n",
      "\u001b[0;32m/Users/jiajunyang/Dropbox/PostDoc/EmoSonics/Code/experimentCode/Evolutionary-Optimization/code/EmoSonics-soundmodels.py\u001b[0m in \u001b[0;36m<module>\u001b[0;34m()\u001b[0m\n\u001b[1;32m     25\u001b[0m         \u001b[0mself\u001b[0m\u001b[0;34m.\u001b[0m\u001b[0mexit\u001b[0m\u001b[0;34m(\u001b[0m\u001b[0;34m)\u001b[0m\u001b[0;34m\u001b[0m\u001b[0m\n\u001b[1;32m     26\u001b[0m \u001b[0;34m\u001b[0m\u001b[0m\n\u001b[0;32m---> 27\u001b[0;31m \u001b[0msc\u001b[0m \u001b[0;34m=\u001b[0m \u001b[0mSC\u001b[0m\u001b[0;34m(\u001b[0m\u001b[0;34m)\u001b[0m\u001b[0;34m\u001b[0m\u001b[0m\n\u001b[0m\u001b[1;32m     28\u001b[0m \u001b[0;34m\u001b[0m\u001b[0m\n\u001b[1;32m     29\u001b[0m sc.cmd(r\"\"\"\n",
      "\u001b[0;32m/Users/jiajunyang/Dropbox/PostDoc/EmoSonics/Code/experimentCode/Evolutionary-Optimization/code/EmoSonics-soundmodels.py\u001b[0m in \u001b[0;36m__init__\u001b[0;34m(self, sclangpath)\u001b[0m\n\u001b[1;32m     14\u001b[0m     (c) 2016 thermann@techfak.uni-bielefeld.de\"\"\"\n\u001b[1;32m     15\u001b[0m     \u001b[0;32mdef\u001b[0m \u001b[0m__init__\u001b[0m\u001b[0;34m(\u001b[0m\u001b[0mself\u001b[0m\u001b[0;34m,\u001b[0m \u001b[0msclangpath\u001b[0m\u001b[0;34m=\u001b[0m\u001b[0;34m\"/Applications/SuperCollider/SuperCollider.app/Contents/Resources/sclang\"\u001b[0m\u001b[0;34m)\u001b[0m\u001b[0;34m:\u001b[0m\u001b[0;34m\u001b[0m\u001b[0m\n\u001b[0;32m---> 16\u001b[0;31m         \u001b[0mself\u001b[0m\u001b[0;34m.\u001b[0m\u001b[0mscp\u001b[0m \u001b[0;34m=\u001b[0m \u001b[0msubprocess\u001b[0m\u001b[0;34m.\u001b[0m\u001b[0mPopen\u001b[0m\u001b[0;34m(\u001b[0m\u001b[0;34m[\u001b[0m\u001b[0msclangpath\u001b[0m\u001b[0;34m]\u001b[0m\u001b[0;34m,\u001b[0m \u001b[0mshell\u001b[0m\u001b[0;34m=\u001b[0m\u001b[0mFalse\u001b[0m\u001b[0;34m,\u001b[0m \u001b[0mstdin\u001b[0m\u001b[0;34m=\u001b[0m\u001b[0msubprocess\u001b[0m\u001b[0;34m.\u001b[0m\u001b[0mPIPE\u001b[0m\u001b[0;34m)\u001b[0m\u001b[0;34m\u001b[0m\u001b[0m\n\u001b[0m\u001b[1;32m     17\u001b[0m     \u001b[0;32mdef\u001b[0m \u001b[0mcmd\u001b[0m\u001b[0;34m(\u001b[0m\u001b[0mself\u001b[0m\u001b[0;34m,\u001b[0m \u001b[0mcmdstr\u001b[0m\u001b[0;34m)\u001b[0m\u001b[0;34m:\u001b[0m\u001b[0;34m\u001b[0m\u001b[0m\n\u001b[1;32m     18\u001b[0m         \u001b[0mself\u001b[0m\u001b[0;34m.\u001b[0m\u001b[0mscp\u001b[0m\u001b[0;34m.\u001b[0m\u001b[0mstdin\u001b[0m\u001b[0;34m.\u001b[0m\u001b[0mwrite\u001b[0m\u001b[0;34m(\u001b[0m\u001b[0mcmdstr\u001b[0m\u001b[0;34m.\u001b[0m\u001b[0mreplace\u001b[0m\u001b[0;34m(\u001b[0m\u001b[0;34m'\\n'\u001b[0m\u001b[0;34m,\u001b[0m\u001b[0;34m''\u001b[0m\u001b[0;34m)\u001b[0m\u001b[0;34m.\u001b[0m\u001b[0mreplace\u001b[0m\u001b[0;34m(\u001b[0m\u001b[0;34m'\\t'\u001b[0m\u001b[0;34m,\u001b[0m\u001b[0;34m''\u001b[0m\u001b[0;34m)\u001b[0m \u001b[0;34m+\u001b[0m\u001b[0;34m'\\n'\u001b[0m\u001b[0;34m)\u001b[0m\u001b[0;34m;\u001b[0m\u001b[0;34m\u001b[0m\u001b[0m\n",
      "\u001b[0;32m/usr/local/Cellar/python/2.7.12/Frameworks/Python.framework/Versions/2.7/lib/python2.7/subprocess.pyc\u001b[0m in \u001b[0;36m__init__\u001b[0;34m(self, args, bufsize, executable, stdin, stdout, stderr, preexec_fn, close_fds, shell, cwd, env, universal_newlines, startupinfo, creationflags)\u001b[0m\n\u001b[1;32m    709\u001b[0m                                 \u001b[0mp2cread\u001b[0m\u001b[0;34m,\u001b[0m \u001b[0mp2cwrite\u001b[0m\u001b[0;34m,\u001b[0m\u001b[0;34m\u001b[0m\u001b[0m\n\u001b[1;32m    710\u001b[0m                                 \u001b[0mc2pread\u001b[0m\u001b[0;34m,\u001b[0m \u001b[0mc2pwrite\u001b[0m\u001b[0;34m,\u001b[0m\u001b[0;34m\u001b[0m\u001b[0m\n\u001b[0;32m--> 711\u001b[0;31m                                 errread, errwrite)\n\u001b[0m\u001b[1;32m    712\u001b[0m         \u001b[0;32mexcept\u001b[0m \u001b[0mException\u001b[0m\u001b[0;34m:\u001b[0m\u001b[0;34m\u001b[0m\u001b[0m\n\u001b[1;32m    713\u001b[0m             \u001b[0;31m# Preserve original exception in case os.close raises.\u001b[0m\u001b[0;34m\u001b[0m\u001b[0;34m\u001b[0m\u001b[0m\n",
      "\u001b[0;32m/usr/local/Cellar/python/2.7.12/Frameworks/Python.framework/Versions/2.7/lib/python2.7/subprocess.pyc\u001b[0m in \u001b[0;36m_execute_child\u001b[0;34m(self, args, executable, preexec_fn, close_fds, cwd, env, universal_newlines, startupinfo, creationflags, shell, to_close, p2cread, p2cwrite, c2pread, c2pwrite, errread, errwrite)\u001b[0m\n\u001b[1;32m   1341\u001b[0m                         \u001b[0;32mraise\u001b[0m\u001b[0;34m\u001b[0m\u001b[0m\n\u001b[1;32m   1342\u001b[0m                 \u001b[0mchild_exception\u001b[0m \u001b[0;34m=\u001b[0m \u001b[0mpickle\u001b[0m\u001b[0;34m.\u001b[0m\u001b[0mloads\u001b[0m\u001b[0;34m(\u001b[0m\u001b[0mdata\u001b[0m\u001b[0;34m)\u001b[0m\u001b[0;34m\u001b[0m\u001b[0m\n\u001b[0;32m-> 1343\u001b[0;31m                 \u001b[0;32mraise\u001b[0m \u001b[0mchild_exception\u001b[0m\u001b[0;34m\u001b[0m\u001b[0m\n\u001b[0m\u001b[1;32m   1344\u001b[0m \u001b[0;34m\u001b[0m\u001b[0m\n\u001b[1;32m   1345\u001b[0m \u001b[0;34m\u001b[0m\u001b[0m\n",
      "\u001b[0;31mOSError\u001b[0m: [Errno 2] No such file or directory"
     ]
    }
   ],
   "source": [
    "import imp\n",
    "sonmod = imp.load_source('sonmod', 'EmoSonics-soundmodels.py')\n",
    "# I moved it from .py to here to accomodate the non notebook version of rating\n",
    "print \"wait for SC to start...\"\n",
    "time.sleep(5); # wait until SC is started...\n",
    "print \"resume: establish OSC interfaces...\""
   ]
  },
  {
   "cell_type": "code",
   "execution_count": 5,
   "metadata": {
    "collapsed": true,
    "deletable": true,
    "editable": true
   },
   "outputs": [],
   "source": [
    "import OSC, time, threading\n",
    "\n",
    "clientSC  = OSC.OSCClient(); clientSC.connect((\"127.0.0.1\", 57110))\n",
    "\n",
    "def sc_msg(onset, msgAdr=\"/s_new\", msgargs=[\"s1\", 2000, 1, 0, \"freq\", 300, \"amp\", 0.5]):\n",
    "    global clientSC\n",
    "    bundle = OSC.OSCBundle()\n",
    "    msg = OSC.OSCMessage()\n",
    "    msg.setAddress(msgAdr)\n",
    "    msg.extend(msgargs)\n",
    "    bundle.append(msg)\n",
    "    bundle.setTimeTag(onset)\n",
    "    clientSC.send(bundle)\n",
    "\n",
    "\n",
    "clientMAX = OSC.OSCClient(); clientMAX.connect((\"127.0.0.1\", portMax)) \n",
    "def max_msg(onset, msgAdr=\"/s_new\", msgargs=[\"freq\", 300, \"amp\", 0.5]):\n",
    "    global clientMAX\n",
    "    bundle = OSC.OSCBundle()\n",
    "    msg = OSC.OSCMessage()\n",
    "    msg.setAddress(msgAdr)\n",
    "    msg.extend(msgargs)\n",
    "    bundle.append(msg)\n",
    "    bundle.setTimeTag(onset)\n",
    "    clientMAX.send(bundle)"
   ]
  },
  {
   "cell_type": "markdown",
   "metadata": {
    "deletable": true,
    "editable": true
   },
   "source": [
    "# 2. Initialize Synthesizer\n",
    "## For SC3\n",
    "* make sure that SuperCollider is started\n",
    "* the server is booted\n",
    "* the synthdef is known: (here the synths for the vocalsyn)"
   ]
  },
  {
   "cell_type": "markdown",
   "metadata": {
    "deletable": true,
    "editable": true
   },
   "source": [
    "(\n",
    "SynthDef(\\jj1, {|out=0, amp=1, pitch=50, chirp=0, dur=0.5, att=0.0, decslope=(-12),\n",
    "\tamint=0, amfreq=0, lfnfrq=0, lfnint=0, vowel=2, voweldiff=0, bright=1, pan=0 |\n",
    "\n",
    "\tvar sig, sum, aenv, fenv, amsig, va, ve, vi, vo, vu, blend;\n",
    "\n",
    "\tamsig = SinOsc.kr(amfreq, mul: 0.5*amint, add: 0.5);\n",
    "\taenv = Line.ar(0, decslope,dur, doneAction: 2).dbamp * EnvGen.kr(Env.new([0, 1, 1, 0], [att*dur, dur-(dur*att)-0.01, 0.01]));\n",
    "\tfenv = Line.kr(pitch, pitch+chirp, dur).midicps + LFNoise1.kr(lfnfrq, lfnint*pitch.midicps);\n",
    "\tvu = Vowel(\\u, \\tenor);\n",
    "\tvo = Vowel(\\o, \\tenor);\n",
    "\tva = Vowel(\\a, \\tenor);\n",
    "    ve = Vowel(\\e, \\tenor);\n",
    "\tvi = Vowel(\\i, \\tenor);\n",
    "\tblend = Line.kr(vowel, vowel+voweldiff, dur);\n",
    "\tsig =  Formants.ar(fenv, vu\n",
    "\t\t.blend(vo, blend.linlin(0,1,0,1,\\minmax))\n",
    "\t\t.blend(va, blend.linlin(1,2,0,1,\\minmax))\n",
    "\t\t.blend(ve, blend.linlin(2,3,0,1,\\minmax))\n",
    "\t\t.blend(vi, blend.linlin(3,4,0,1,\\minmax))\n",
    "\t\t.brightenExp(bright.reciprocal, 1));\n",
    "\tsum = sig*amsig*aenv;\n",
    "\tOut.ar(0, Pan2.ar(sum, pan, amp));\n",
    "}).add();\n",
    "\n",
    "SynthDef(\\reverb, {|outbus, mix=0.25, room=0.15, damp=0.5, amp=1.0|\n",
    "\tvar sig;\n",
    "\tsig = In.ar(outbus, 2);\n",
    "\tReplaceOut.ar(outbus,\n",
    "\t\tFreeVerb2.ar( sig[0], sig[1], mix, room, damp, amp));\n",
    "}).add();\n",
    ")\n"
   ]
  },
  {
   "cell_type": "markdown",
   "metadata": {
    "deletable": true,
    "editable": true
   },
   "source": [
    "## For MAX/Msp: \n",
    "* start the AbstractModel.app, \n",
    "* so that MAX/Msp awaits OSC messages on port 9000"
   ]
  },
  {
   "cell_type": "markdown",
   "metadata": {
    "deletable": true,
    "editable": true
   },
   "source": [
    "## 3. Synths initialization\n",
    "* for the current synthesis this is merely starting the reverb, since the vocal synthesizer is spawned\n",
    "* for a continuous playing synths, whose parameters are merely set/updated, you'd send the OSC message here to start playback / create the instance"
   ]
  },
  {
   "cell_type": "code",
   "execution_count": 6,
   "metadata": {
    "collapsed": false,
    "deletable": true,
    "editable": true
   },
   "outputs": [],
   "source": [
    "if (soundmodel == \"vocal\") :    \n",
    "    sc_msg(0, \"/s_new\", [\"reverb\", 1001, 1, 0, \"outbus\", 0, \"room\", 0.7, \"mix\", 0.1, \"damp\", 0.9]);\n",
    "else: pass"
   ]
  },
  {
   "cell_type": "code",
   "execution_count": 7,
   "metadata": {
    "collapsed": false,
    "deletable": true,
    "editable": true
   },
   "outputs": [
    {
     "ename": "OSCClientError",
     "evalue": "while sending: [Errno 61] Connection refused",
     "output_type": "error",
     "traceback": [
      "\u001b[0;31m---------------------------------------------------------------------------\u001b[0m",
      "\u001b[0;31mOSCClientError\u001b[0m                            Traceback (most recent call last)",
      "\u001b[0;32m<ipython-input-7-505e8b846bf7>\u001b[0m in \u001b[0;36m<module>\u001b[0;34m()\u001b[0m\n\u001b[1;32m      1\u001b[0m \u001b[0;32mif\u001b[0m \u001b[0;34m(\u001b[0m\u001b[0msoundmodel\u001b[0m \u001b[0;34m==\u001b[0m \u001b[0;34m\"vocal\"\u001b[0m\u001b[0;34m)\u001b[0m \u001b[0;34m:\u001b[0m\u001b[0;34m\u001b[0m\u001b[0m\n\u001b[1;32m      2\u001b[0m     \u001b[0;31m# use test tone to check if the reverb is one\u001b[0m\u001b[0;34m\u001b[0m\u001b[0;34m\u001b[0m\u001b[0m\n\u001b[0;32m----> 3\u001b[0;31m     \u001b[0msc_msg\u001b[0m\u001b[0;34m(\u001b[0m\u001b[0;36m0\u001b[0m\u001b[0;34m,\u001b[0m \u001b[0;34m\"/s_new\"\u001b[0m\u001b[0;34m,\u001b[0m \u001b[0;34m[\u001b[0m\u001b[0;34m\"default\"\u001b[0m\u001b[0;34m,\u001b[0m \u001b[0;36m1002\u001b[0m\u001b[0;34m,\u001b[0m \u001b[0;36m1\u001b[0m\u001b[0;34m,\u001b[0m \u001b[0;36m1\u001b[0m\u001b[0;34m]\u001b[0m\u001b[0;34m)\u001b[0m\u001b[0;34m;\u001b[0m \u001b[0mnow\u001b[0m \u001b[0;34m=\u001b[0m \u001b[0mtime\u001b[0m\u001b[0;34m.\u001b[0m\u001b[0mtime\u001b[0m\u001b[0;34m(\u001b[0m\u001b[0;34m)\u001b[0m\u001b[0;34m;\u001b[0m\u001b[0;34m\u001b[0m\u001b[0m\n\u001b[0m\u001b[1;32m      4\u001b[0m     \u001b[0msc_msg\u001b[0m\u001b[0;34m(\u001b[0m\u001b[0mnow\u001b[0m\u001b[0;34m+\u001b[0m\u001b[0;36m0.5\u001b[0m\u001b[0;34m,\u001b[0m \u001b[0;34m\"/n_free\"\u001b[0m\u001b[0;34m,\u001b[0m \u001b[0;34m[\u001b[0m\u001b[0;36m1002\u001b[0m\u001b[0;34m]\u001b[0m\u001b[0;34m)\u001b[0m\u001b[0;34m\u001b[0m\u001b[0m\n\u001b[1;32m      5\u001b[0m \u001b[0;32melse\u001b[0m\u001b[0;34m:\u001b[0m \u001b[0;32mpass\u001b[0m\u001b[0;34m\u001b[0m\u001b[0m\n",
      "\u001b[0;32m<ipython-input-5-e4700e4ed37d>\u001b[0m in \u001b[0;36msc_msg\u001b[0;34m(onset, msgAdr, msgargs)\u001b[0m\n\u001b[1;32m     11\u001b[0m     \u001b[0mbundle\u001b[0m\u001b[0;34m.\u001b[0m\u001b[0mappend\u001b[0m\u001b[0;34m(\u001b[0m\u001b[0mmsg\u001b[0m\u001b[0;34m)\u001b[0m\u001b[0;34m\u001b[0m\u001b[0m\n\u001b[1;32m     12\u001b[0m     \u001b[0mbundle\u001b[0m\u001b[0;34m.\u001b[0m\u001b[0msetTimeTag\u001b[0m\u001b[0;34m(\u001b[0m\u001b[0monset\u001b[0m\u001b[0;34m)\u001b[0m\u001b[0;34m\u001b[0m\u001b[0m\n\u001b[0;32m---> 13\u001b[0;31m     \u001b[0mclientSC\u001b[0m\u001b[0;34m.\u001b[0m\u001b[0msend\u001b[0m\u001b[0;34m(\u001b[0m\u001b[0mbundle\u001b[0m\u001b[0;34m)\u001b[0m\u001b[0;34m\u001b[0m\u001b[0m\n\u001b[0m\u001b[1;32m     14\u001b[0m \u001b[0;34m\u001b[0m\u001b[0m\n\u001b[1;32m     15\u001b[0m \u001b[0;34m\u001b[0m\u001b[0m\n",
      "\u001b[0;32m/Users/jiajunyang/Dropbox/PostDoc/EmoSonics/Code/experimentCode/Evolutionary-Optimization/code/OSC.pyc\u001b[0m in \u001b[0;36msend\u001b[0;34m(self, msg, timeout)\u001b[0m\n\u001b[1;32m   1149\u001b[0m                                 \u001b[0;32mraise\u001b[0m \u001b[0me\u001b[0m\u001b[0;34m\u001b[0m\u001b[0m\n\u001b[1;32m   1150\u001b[0m                         \u001b[0;32melse\u001b[0m\u001b[0;34m:\u001b[0m\u001b[0;34m\u001b[0m\u001b[0m\n\u001b[0;32m-> 1151\u001b[0;31m                                 \u001b[0;32mraise\u001b[0m \u001b[0mOSCClientError\u001b[0m\u001b[0;34m(\u001b[0m\u001b[0;34m\"while sending: %s\"\u001b[0m \u001b[0;34m%\u001b[0m \u001b[0mstr\u001b[0m\u001b[0;34m(\u001b[0m\u001b[0me\u001b[0m\u001b[0;34m)\u001b[0m\u001b[0;34m)\u001b[0m\u001b[0;34m\u001b[0m\u001b[0m\n\u001b[0m\u001b[1;32m   1152\u001b[0m \u001b[0;34m\u001b[0m\u001b[0m\n\u001b[1;32m   1153\u001b[0m \u001b[0;31m######\u001b[0m\u001b[0;34m\u001b[0m\u001b[0;34m\u001b[0m\u001b[0m\n",
      "\u001b[0;31mOSCClientError\u001b[0m: while sending: [Errno 61] Connection refused"
     ]
    }
   ],
   "source": [
    "if (soundmodel == \"vocal\") :\n",
    "    # use test tone to check if the reverb is one\n",
    "    sc_msg(0, \"/s_new\", [\"default\", 1002, 1, 1]); now = time.time(); \n",
    "    sc_msg(now+0.5, \"/n_free\", [1002])\n",
    "else: pass"
   ]
  },
  {
   "cell_type": "markdown",
   "metadata": {
    "deletable": true,
    "editable": true
   },
   "source": [
    "## 4. Synth Parameter Definition (for mapping)"
   ]
  },
  {
   "cell_type": "code",
   "execution_count": 7,
   "metadata": {
    "collapsed": false,
    "deletable": true,
    "editable": true
   },
   "outputs": [],
   "source": [
    "# TH: for vocal synth\n",
    "parspec_vocal = array([ # name, min, max, scaling (lin/exp), default\n",
    "#(\"evrate\", 0.2, 4, \"exp\", 0.5, \"Hz\"),\n",
    "#(\"irregularity\", 0, 1, \"lin\", 0, \"%\"),\n",
    "(\"dur\", 0.005, 1.5, \"exp\", 0.4, \"secs\"), \n",
    "(\"att\", 0.001, 0.5, \"exp\", 0.001, \"secs\"),\n",
    "(\"decslope\", -50, 10, \"lin\", -12, \"dB/rm time\"),\n",
    "(\"amint\",  0, 1, \"lin\", 0, \"intensity\"),\n",
    "(\"amfreq\", 1, 50, \"exp\", 1, \"Hz\"),\n",
    "(\"pitch\", 20, 85, \"lin\", 50, \"midinote\"),\n",
    "(\"chirp\", -36, 36, \"lin\", 0, \"semitones/dur\"),\n",
    "(\"lfnfrq\", 5, 50, \"exp\", 5, \"Hz\"),\n",
    "(\"lfnint\", 0, 0.5, \"lin\", 0, \"rel. pitch\"),\n",
    "(\"vowel\", 0, 4, \"lin\", 2.5, \"uoaei\"),\n",
    "(\"voweldiff\", -2.5, 2.5, \"lin\", 0, \"delta\"),\n",
    "(\"bright\", 0.2, 1, \"lin\", 0.5, \"arb.u.\")], dtype=[\n",
    "      ('name', 'S20'), ('min', '>f4'), ('max', '>f4'), ('scaling', 'S10'), ('default', '>f4'), ('unit', 'S20')])"
   ]
  },
  {
   "cell_type": "code",
   "execution_count": 8,
   "metadata": {
    "collapsed": true,
    "deletable": true,
    "editable": true
   },
   "outputs": [],
   "source": [
    "# JJ: New parspec\n",
    "parspec_abstract = array([ # name, min, max, scaling (lin/exp), default\n",
    "#(\"evrate\", 0.2, 4, \"exp\", 0.5, \"Hz\"),\n",
    "#(\"irregularity\", 0, 1, \"lin\", 0, \"%\"),\n",
    "(\"dur\", 0., 1., \"lin\", 0.5, \"secs\"),\n",
    "(\"att\", 0., 1., \"lin\", 0.3, \"%\"),\n",
    "(\"desvol\", 0., 1., \"lin\", 0.5, \"dB/dur\"),\n",
    "(\"pitch\", 0, 1., \"lin\", 0.5, \"Hz\"),\n",
    "(\"chirp\", 0., 1., \"lin\", 0.5, \"semitones/dur\"),\n",
    "(\"lfndepth\", 0., 1., \"lin\", 0., \"rate\"),\n",
    "(\"lfnfreq\", 0, 1., \"lin\", 0., \"Hz\"),\n",
    "(\"amdepth\", 0., 1., \"lin\", 0., \"rate\"),\n",
    "(\"amfreq\", 0., 1., \"lin\", 0., \"Hz\"),\n",
    "(\"richness\", 0., 1., \"lin\", 0.5, \"%\"),\n",
    "(\"lpfreq\", 0., 1., \"lin\", 0.5, \"Hz\")  # I wonder if this is important.       \n",
    "    ], dtype=[\n",
    "      ('name', 'S20'), ('min', '>f4'), ('max', '>f4'), ('scaling', 'S10'), ('default', '>f4'), ('unit', 'S20')])"
   ]
  },
  {
   "cell_type": "code",
   "execution_count": 9,
   "metadata": {
    "collapsed": true,
    "deletable": true,
    "editable": true
   },
   "outputs": [],
   "source": [
    "# JJ: for physio synth\n",
    "# For the max model, the control range is always between 0 ~ 1. as the scaling is done\n",
    "# within Max, this is because of the node visulisation in Max which only takes 0 ~ 1.\n",
    "parspec_physiological = array([ # name, min, max, scaling, default, unit\n",
    "(\"bblend\", 0., 1., \"lin\", 0.5, \"%\"),\n",
    "(\"bin\", 0., 1., \"lin\", 0.5, \"secs\"),\n",
    "(\"bgap\", 0., 1., \"lin\", 0.5, \"secs\"),\n",
    "(\"bout\", 0, 1., \"lin\", 0.5, \"rate\"),\n",
    "(\"hbrate\", 0., 1., \"lin\", 0.551, \"BPM\"),\n",
    "(\"hbroughness\", 0., 1., \"lin\", 0.12, \"rate\"),\n",
    "(\"mtvolpit\", 0, 1., \"lin\", 0.73, \"dB&Hz\"),\n",
    "(\"mtfm\", 0., 1., \"lin\", 0., \"rate\"),\n",
    "(\"mtharmonic\", 0., 1., \"lin\", 0., \"%\"),\n",
    "(\"mtroughness\", 0., 1., \"lin\", 0., \"rate\")      \n",
    "    ], dtype=[\n",
    "      ('name', 'S20'), ('min', '>f4'), ('max', '>f4'), ('scaling', 'S10'), ('default', '>f4'), ('unit', 'S20')])"
   ]
  },
  {
   "cell_type": "markdown",
   "metadata": {
    "deletable": true,
    "editable": true
   },
   "source": [
    "## 5. Mapping Functions and Service Functions for parameter evolution"
   ]
  },
  {
   "cell_type": "code",
   "execution_count": 10,
   "metadata": {
    "collapsed": false,
    "deletable": true,
    "editable": true
   },
   "outputs": [],
   "source": [
    "def parmap(par=(\"pitch\", 20, 85, \"lin\", 50, \"midinote\"), val=0.5):\n",
    "    mi, ma = par[1], par[2]\n",
    "    if(par[3]==\"lin\"): return mi+(ma-mi)*val\n",
    "    if(par[3]==\"exp\"): return mi*exp(log(ma/mi)*val)\n",
    "\n",
    "def parunmap(par=(\"pitch\", 20, 85, \"lin\", 50, \"midinote\"), val=40):\n",
    "    mi, ma = par[1], par[2]\n",
    "    if(par[3]==\"lin\"): return (val-mi)/(ma-mi)\n",
    "    if(par[3]==\"exp\"): return log(val/mi)/log(ma/mi)\n",
    "    \n",
    "def parvecmap(parspec, vec):\n",
    "    return array([parmap(parspec[k], v) for k,v in enumerate(vec)])\n",
    "\n",
    "def parvecunmap(parspec, vec):\n",
    "    return array([parunmap(parspec[k], v) for k,v in enumerate(vec)])    \n",
    "\n",
    "# test code:\n",
    "# print parvecunmap(parspec_vocal, parspec['default']) # get default parameters\n",
    "\n",
    "def playevent(soundmodel, v):\n",
    "    # v is unmapped vector, i.e. vector elements in [0,1]\n",
    "    if(soundmodel=='vocal'):\n",
    "        ps = parspec_vocal\n",
    "        vec = parvecmap(ps, v);\n",
    "        sc_msg(0, \"/s_new\", [\"jj1\", 1002+random.randint(900), 1,1] + \n",
    "           [x for pair in zip(ps['name'].tolist(), vec) for x in pair] );\n",
    "    if(soundmodel=='abstract'):\n",
    "        ps = parspec_abstract\n",
    "        vec = parvecmap(ps, v);\n",
    "        max_msg(0, \"/s_new\" , [x for pair in zip(ps['name'].tolist(), vec) for x in pair] )\n",
    "        \n",
    "    if(soundmodel=='physiological'):\n",
    "        ps = parspec_physiological\n",
    "        vec = parvecmap(ps, v);\n",
    "        max_msg(0, \"/s_new\" , [x for pair in zip(ps['name'].tolist(), vec) for x in pair] )\n",
    "        \n",
    "        \n",
    "\n",
    "def mutate(parent, sigma=0.1):\n",
    "    d=size(parent)\n",
    "    child = clip((parent + sigma*random.randn(d)), 0, 1)\n",
    "    return child\n",
    "\n",
    "def create_next_generation(parentvec, sigma, nr_of_children=4):\n",
    "    global generation_counter, v\n",
    "    generation_counter += 1\n",
    "    return [parentvec] + [mutate(parentvec, sigma) for k in range(nr_of_children)]\n",
    "\n",
    "def append_data(dataset, time, target, generation_counter, logsigma, parvec, submit=0, userid=-1, sound=\"vocal\", run=-1):\n",
    "    dataset.append([userid, sound, run, time, target, generation_counter, logsigma, parvec, submit])    \n",
    "\n",
    "def savedata(dataset, prefix=\"user-soundmodel-run-\"):\n",
    "    df = pandas.DataFrame(data, columns=['uid', 'snd', 'run', 'time','target','generation','logsigma','parvec','submit'])\n",
    "    df.to_csv(prefix + time.strftime(\"-%Y%m%d-%H%M%S\") + \".csv\", index=False)"
   ]
  },
  {
   "cell_type": "markdown",
   "metadata": {
    "deletable": true,
    "editable": true
   },
   "source": [
    "## 6. Evolutionary Optimization User Interface"
   ]
  },
  {
   "cell_type": "code",
   "execution_count": 11,
   "metadata": {
    "collapsed": false,
    "deletable": true,
    "editable": true
   },
   "outputs": [
    {
     "data": {
      "application/vnd.jupyter.widget-view+json": {
       "model_id": "da1e26bb267147e1b6458b4982aa9807"
      }
     },
     "metadata": {},
     "output_type": "display_data"
    },
    {
     "data": {
      "application/vnd.jupyter.widget-view+json": {
       "model_id": "628bf0dcf0244e0d878a712b4652c56c"
      }
     },
     "metadata": {},
     "output_type": "display_data"
    },
    {
     "data": {
      "application/vnd.jupyter.widget-view+json": {
       "model_id": "76b294e0195148b6af58e853c391859f"
      }
     },
     "metadata": {},
     "output_type": "display_data"
    },
    {
     "data": {
      "application/vnd.jupyter.widget-view+json": {
       "model_id": "95a760b4e18a4a559a3524083b8b911a"
      }
     },
     "metadata": {},
     "output_type": "display_data"
    },
    {
     "data": {
      "application/vnd.jupyter.widget-view+json": {
       "model_id": "95ad132845b4469bb924cebca0e35524"
      }
     },
     "metadata": {},
     "output_type": "display_data"
    }
   ],
   "source": [
    "username = \"fake\"\n",
    "userid = 1010\n",
    "# soundmodel = \"abstract\"\n",
    "run = 1\n",
    "log_sigma_initval = -0.8\n",
    "log_sigma_step = -0.2\n",
    "\n",
    "data = []  # time, target state, generation_counter, sigma, parvec\n",
    "generation_counter = 0\n",
    "v = []\n",
    "target_set_time = time.time()\n",
    "\n",
    "wlogsigma = widgets.FloatSlider(value=-0.5, min=-5, max=0, step=0.01, description='log(sigma):')\n",
    "\n",
    "def reset_settings():\n",
    "    global wtarget, generation_counter, v, wlogsigma, soundmodel\n",
    "    generation_counter = 0\n",
    "    target_set_time = time.time()\n",
    "    if(soundmodel=='vocal'):    ps = parspec_vocal\n",
    "    if(soundmodel=='abstract'): ps = parspec_abstract\n",
    "    if (soundmodel == 'physiological'): ps = parspec_physiological\n",
    "    v = create_next_generation(parvecunmap(ps, ps['default']), 0.25)\n",
    "    wlogsigma.value = log_sigma_initval\n",
    "    \n",
    "reset_settings()\n",
    "\n",
    "wtarget = widgets.ToggleButtons(\n",
    "    description='select target',\n",
    "    options=['happy', 'surprised', 'angry', 'disgusted', 'sad', 'calm'])\n",
    "\n",
    "def target_on_value_change(change):\n",
    "    global generation_counter, target_set_time\n",
    "    generation_counter = 0\n",
    "    target_set_time = time.time()\n",
    "\n",
    "wtarget.observe(target_on_value_change, names='value')  \n",
    "\n",
    "w = widgets.ToggleButtons(\n",
    "    description='Choose best variation:',\n",
    "    options=['0', '1', '2', '3', '4'])\n",
    "\n",
    "def nextgenclick(arg):\n",
    "    global v, w, wlogsigma\n",
    "    parent = int(w.value)\n",
    "    append_data(data, time.time()-target_set_time, wtarget.value, generation_counter, \n",
    "                wlogsigma.value, v[parent].tolist(), userid=userid, sound=soundmodel, run=run)\n",
    "    v = create_next_generation(v[parent], exp(wlogsigma.value))\n",
    "    wlogsigma.value += log_sigma_step\n",
    "    w.value = '0'\n",
    "    \n",
    "wbutnext = widgets.Button(description='proceed')\n",
    "wbutnext.on_click(nextgenclick)\n",
    "\n",
    "wbutsubmit = widgets.Button(description='accept')\n",
    "\n",
    "def submit_choice(arg):\n",
    "    global w, v, wlogsigma\n",
    "    choice = int(w.value)\n",
    "    print \"submit\", wtarget.value, choice\n",
    "    append_data(data, time.time() - target_set_time, wtarget.value, generation_counter, \n",
    "                wlogsigma.value, v[choice].tolist(), submit=1, userid=userid, sound=soundmodel, run=run)\n",
    "    reset_settings()\n",
    "    w.value = '0'\n",
    "    targetidx = wtarget.options.index(wtarget.value)\n",
    "    print targetidx, len(wtarget.options)\n",
    "    if(targetidx < len(wtarget.options)-1):\n",
    "        wtarget.value = wtarget.options[targetidx+1]\n",
    "    else:\n",
    "        print \"completed. thanks.\"\n",
    "        fname = \"../data/%s-%s-run%d\" % (username, soundmodel, run)\n",
    "        savedata(data, fname)\n",
    "        print \"data saved to\"+fname \n",
    "    \n",
    "wbutsubmit.on_click(submit_choice)\n",
    "\n",
    "display(wtarget, w, wbutnext, wlogsigma, wbutsubmit)\n",
    "\n",
    "def on_value_change(change):\n",
    "    global v, wlogsigma\n",
    "    id = int(change['new'])\n",
    "    print \"play \"\n",
    "    playevent(soundmodel, v[id])\n",
    "    \n",
    "w.observe(on_value_change, names='value')  "
   ]
  },
  {
   "cell_type": "markdown",
   "metadata": {
    "deletable": true,
    "editable": true
   },
   "source": [
    "## 8. Load all data for evaluation"
   ]
  },
  {
   "cell_type": "code",
   "execution_count": null,
   "metadata": {
    "collapsed": false,
    "deletable": true,
    "editable": true
   },
   "outputs": [],
   "source": [
    "import glob\n",
    "\n",
    "def parselist(s):\n",
    "    return array([ float(el) for el in s.translate(None, \"[]\").split(\",\") ], dtype='float64')\n",
    "\n",
    "converterdict = {'parvec': parselist};\n",
    "\n",
    "# load all data files of pattern into dataframe\n",
    "for i, fname in enumerate(glob.glob(\"../data/*.csv\")):\n",
    "    df = pandas.read_csv(fname, converters=converterdict)\n",
    "    if(i==0): \n",
    "        da = df\n",
    "    else: \n",
    "        da = da.append(df)"
   ]
  },
  {
   "cell_type": "code",
   "execution_count": null,
   "metadata": {
    "collapsed": false,
    "deletable": true,
    "editable": true
   },
   "outputs": [],
   "source": [
    "da"
   ]
  },
  {
   "cell_type": "markdown",
   "metadata": {
    "deletable": true,
    "editable": true
   },
   "source": [
    "## 9. extract all optimization endpoints and play them in a series\n",
    "(can now be done easier since I added logging for the submit button... to be updated)"
   ]
  },
  {
   "cell_type": "code",
   "execution_count": null,
   "metadata": {
    "collapsed": false,
    "deletable": true,
    "editable": true
   },
   "outputs": [],
   "source": [
    "# play all sounds for a given emtion\n",
    "# soundmodel = 'vocal'\n",
    "dsel = da[(da['submit']==1) & (da['target']=='disgusted') & (da['snd']==soundmodel)]\n",
    "\n",
    "for el in dsel.iterrows():\n",
    "    parvec = el[1]['parvec']\n",
    "    print el[1]['uid']\n",
    "    playevent(soundmodel, parvec)\n",
    "    time.sleep(1.0)    "
   ]
  },
  {
   "cell_type": "code",
   "execution_count": null,
   "metadata": {
    "collapsed": false,
    "deletable": true,
    "editable": true
   },
   "outputs": [],
   "source": [
    "# play center of mass of all emotion-assigned samples\n",
    "targets = ['happy', 'surprised', 'angry', 'disgusted', 'sad', 'calm']\n",
    "soundmodel = \"abstract\"\n",
    "for t in targets:\n",
    "    print t\n",
    "    dsel = da[(da['submit']==1) & (da['target']==t) & (da['snd']==soundmodel)]\n",
    "    vt = mean(dsel['parvec']) \n",
    "    playevent(soundmodel, vt)\n",
    "    time.sleep(1.5)    "
   ]
  },
  {
   "cell_type": "markdown",
   "metadata": {
    "deletable": true,
    "editable": true
   },
   "source": [
    "## 10. interpolation experiment: play series of sounds between prototypes"
   ]
  },
  {
   "cell_type": "code",
   "execution_count": null,
   "metadata": {
    "collapsed": false,
    "deletable": true,
    "editable": true
   },
   "outputs": [],
   "source": [
    "# we need a function to convert a array of arrays into a regular 2D array\n",
    "def aoa_2d_array(pv):\n",
    "    r = zeros((size(pv), size(pv[0])))\n",
    "    for i, el in enumerate(pv): r[i] = el\n",
    "    return r \n",
    "# test code\n",
    "#soundmodel = 'abstract'\n",
    "#aoa_2d_array(da[(da['submit']==1) & (da['snd']==soundmodel)].parvec.values)"
   ]
  },
  {
   "cell_type": "code",
   "execution_count": null,
   "metadata": {
    "collapsed": false,
    "deletable": true,
    "editable": true
   },
   "outputs": [],
   "source": [
    "# array of all submitted parameter vectors\n",
    "# soundmodel='vocal'\n",
    "dtmp = da[(da['submit']==1) & (da['snd']==soundmodel) & \n",
    "          (da['uid']==1001) & (da['run']==0)].parvec.values\n",
    "pvarr = aoa_2d_array(dtmp)\n",
    "playevent(soundmodel, mean(pvarr, 0)) # mean vector of all submitted prototypes"
   ]
  },
  {
   "cell_type": "code",
   "execution_count": null,
   "metadata": {
    "collapsed": false,
    "deletable": true,
    "editable": true
   },
   "outputs": [],
   "source": [
    "dtmp = da[(da['submit']==1) & (da['snd']==soundmodel) & (da['uid']==1001) & (da['run']==0) ]\n",
    "# print dtmp\n",
    "par = aoa_2d_array(dtmp['parvec'].values)\n",
    "# interpolate between emotional prototypes\n",
    "for l in arange(0, 1, 0.1):\n",
    "    playevent(soundmodel, l*par[2]+(1.0-l)*par[3])\n",
    "    time.sleep(1)"
   ]
  },
  {
   "cell_type": "markdown",
   "metadata": {
    "deletable": true,
    "editable": true
   },
   "source": [
    "## Kernel regression-mapping for navigating between Emotionals Prototypes"
   ]
  },
  {
   "cell_type": "code",
   "execution_count": null,
   "metadata": {
    "collapsed": false,
    "deletable": true,
    "editable": true
   },
   "outputs": [],
   "source": [
    "# assemble 6 prototype vectors\n",
    "dsel = da[(da['submit']==1) & (da['uid']==1001) & (da['snd']=='abstract') & (da['run']==1)]"
   ]
  },
  {
   "cell_type": "code",
   "execution_count": null,
   "metadata": {
    "collapsed": false,
    "deletable": true,
    "editable": true
   },
   "outputs": [],
   "source": [
    "targets = ['happy', 'surprised', 'angry', 'disgusted', 'sad', 'calm']\n",
    "pvec = dsel[:1].parvec.values[0]\n",
    "dim = len(pvec)\n",
    "Nrows = len(targets)\n",
    "pvecs = zeros((Nrows, dim))\n",
    "for i, t in enumerate(targets):\n",
    "    print i, t\n",
    "    pvecs[i]= dsel[dsel['target']==t].parvec.values[0]\n",
    "    #print t; playevent(\"jj1\", parspec, pvecs[i]); time.sleep(1.5)\n",
    "\n",
    "# kernel regression: input positions\n",
    "xvecs = zeros((Nrows, 2))\n",
    "for i in range(len(targets)):\n",
    "    xvecs[i] = [cos(2*pi*i/Nrows+0.1), sin(2*pi*i/Nrows+0.1)]\n",
    "\n",
    "def kernel(x, y, sigma=1):\n",
    "    return exp(-0.5*sum((x-y)**2)/sigma**2)\n",
    "\n",
    "def krm(xvecs, pvecs, xvec, sigma=1):\n",
    "    n=shape(xvecs)[0]\n",
    "    nom = zeros(dim)\n",
    "    den = 0\n",
    "    for i in range(n):\n",
    "        temp = kernel(xvecs[i], xvec, sigma)\n",
    "        print temp\n",
    "        nom += temp*pvecs[i]\n",
    "        den += temp\n",
    "    return nom/den\n",
    "# print xvecs[0], krm(xvecs, pvecs, xvecs[0], sigma=0.1)    \n",
    "# playevent(soundmodel, krm(xvecs, pvecs, array([-1,1]), sigma=0.9))"
   ]
  },
  {
   "cell_type": "code",
   "execution_count": null,
   "metadata": {
    "collapsed": false,
    "deletable": true,
    "editable": true
   },
   "outputs": [],
   "source": [
    "xvecs"
   ]
  },
  {
   "cell_type": "code",
   "execution_count": null,
   "metadata": {
    "collapsed": false,
    "deletable": true,
    "editable": true
   },
   "outputs": [],
   "source": [
    "fig = figure()\n",
    "ax = fig.add_subplot(111)\n",
    "ax.plot(xvecs[:,0], xvecs[:,1], \"o\", markersize=15)\n",
    "ax.set_aspect('equal', 'datalim')\n",
    "\n",
    "wkrmsigma = widgets.FloatSlider(value=0.2, min=0, max=1, step=0.01, description='krm-sigma:')\n",
    "\n",
    "def onclick(event, verbose=False):\n",
    "    x = event.xdata; y = event.ydata;\n",
    "    if(event.button==1): #left mouse click\n",
    "        if(verbose): print('(%f, %f)' % (x, y))\n",
    "        playevent(soundmodel, krm(xvecs, pvecs, array([x,y]), sigma=wkrmsigma.value))\n",
    "cid = fig.canvas.mpl_connect('button_press_event', onclick)\n",
    "display(wkrmsigma)\n",
    "get_current_fig_manager().window.setGeometry(1200,10,400,400)"
   ]
  },
  {
   "cell_type": "code",
   "execution_count": null,
   "metadata": {
    "collapsed": false,
    "deletable": true,
    "editable": true
   },
   "outputs": [],
   "source": [
    "soundmodel"
   ]
  },
  {
   "cell_type": "code",
   "execution_count": null,
   "metadata": {
    "collapsed": false,
    "deletable": true,
    "editable": true
   },
   "outputs": [],
   "source": [
    "# Set up OSC receiver for the tablet interaction. \n",
    "soundmodel = 'vocal'\n",
    "receive_address = '129.70.148.97', 50010 # The receive address needs to be controlled by the tablet\n",
    "receiveSever = OSC.OSCServer(receive_address) # create a serve to receive OSC from the tablet\n",
    "receiveSever.addDefaultHandlers()\n",
    "x = 0.0\n",
    "y = 0.0\n",
    "wkrmsigma = 0.8 # later it can be control by tablet. \n",
    "\n",
    "# Need to change it to a class. \n",
    "\n",
    "def update_OSCAddress(addr,tags,stuff, source):\n",
    "    global receive_address\n",
    "    receive_address = stuff[0], int(stuff[1])\n",
    "    print \"New address:\" + stuff[0]\n",
    "    print \"New port: \"+ stuff[1]\n",
    "    \n",
    "\n",
    "\n",
    "def printing_handler(addr, tags, stuff, source):\n",
    "    global x, y, soundmodel, xvecs, pvecs, wkrmsigma\n",
    "    x = float(stuff[0])\n",
    "    y = float(stuff[1])\n",
    "    print x, y\n",
    "    playevent(soundmodel, krm(xvecs, pvecs, array([x,y]), sigma=wkrmsigma))\n",
    "\n",
    "receiveSever.addMsgHandler(\"/a\", printing_handler) # adding our function\n",
    "receiveSever.addMsgHandler(\"/addrInfo\", update_OSCAddress)\n",
    "# just checking which handlers we have added\n",
    "print \"Registered Callback-functions are :\"\n",
    "for addr in receiveSever.getOSCAddressSpace():\n",
    "    print addr\n",
    "    \n",
    "# Start OSCServer\n",
    "print \"\\nStarting OSCServer.\"\n",
    "st_oscSever = threading.Thread( target = receiveSever.serve_forever )\n",
    "st_oscSever.start()"
   ]
  },
  {
   "cell_type": "code",
   "execution_count": null,
   "metadata": {
    "collapsed": false,
    "deletable": true,
    "editable": true
   },
   "outputs": [],
   "source": [
    "# Close the OSC server\n",
    "print \"\\nClosing OSCServer.\"\n",
    "receiveSever.close()\n",
    "print \"Waiting for Server-thread to finish\"\n",
    "st_oscSever.join() ##!!!\n",
    "print \"Done\""
   ]
  },
  {
   "cell_type": "code",
   "execution_count": null,
   "metadata": {
    "collapsed": true,
    "deletable": true,
    "editable": true
   },
   "outputs": [],
   "source": []
  }
 ],
 "metadata": {
  "anaconda-cloud": {},
  "kernelspec": {
   "display_name": "Python 2",
   "language": "python",
   "name": "python2"
  },
  "language_info": {
   "codemirror_mode": {
    "name": "ipython",
    "version": 2
   },
   "file_extension": ".py",
   "mimetype": "text/x-python",
   "name": "python",
   "nbconvert_exporter": "python",
   "pygments_lexer": "ipython2",
   "version": "2.7.12"
  }
 },
 "nbformat": 4,
 "nbformat_minor": 0
}
